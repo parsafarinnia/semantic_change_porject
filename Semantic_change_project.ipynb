{
  "cells": [
    {
      "cell_type": "markdown",
      "source": [
        "#Setup and imports"
      ],
      "metadata": {
        "id": "386R0zIuHV76"
      }
    },
    {
      "cell_type": "code",
      "execution_count": 1,
      "metadata": {
        "colab": {
          "base_uri": "https://localhost:8080/"
        },
        "id": "ffRbNgOgO9fW",
        "outputId": "c9c1a166-2be7-40a6-982b-42c7152cbc30"
      },
      "outputs": [
        {
          "output_type": "stream",
          "name": "stdout",
          "text": [
            "Collecting transformers\n",
            "  Downloading transformers-4.18.0-py3-none-any.whl (4.0 MB)\n",
            "\u001b[K     |████████████████████████████████| 4.0 MB 4.3 MB/s \n",
            "\u001b[?25hCollecting sacremoses\n",
            "  Downloading sacremoses-0.0.49-py3-none-any.whl (895 kB)\n",
            "\u001b[K     |████████████████████████████████| 895 kB 43.0 MB/s \n",
            "\u001b[?25hRequirement already satisfied: importlib-metadata in /usr/local/lib/python3.7/dist-packages (from transformers) (4.11.3)\n",
            "Requirement already satisfied: numpy>=1.17 in /usr/local/lib/python3.7/dist-packages (from transformers) (1.21.5)\n",
            "Requirement already satisfied: tqdm>=4.27 in /usr/local/lib/python3.7/dist-packages (from transformers) (4.63.0)\n",
            "Collecting huggingface-hub<1.0,>=0.1.0\n",
            "  Downloading huggingface_hub-0.5.1-py3-none-any.whl (77 kB)\n",
            "\u001b[K     |████████████████████████████████| 77 kB 5.1 MB/s \n",
            "\u001b[?25hCollecting tokenizers!=0.11.3,<0.13,>=0.11.1\n",
            "  Downloading tokenizers-0.11.6-cp37-cp37m-manylinux_2_12_x86_64.manylinux2010_x86_64.whl (6.5 MB)\n",
            "\u001b[K     |████████████████████████████████| 6.5 MB 43.5 MB/s \n",
            "\u001b[?25hRequirement already satisfied: regex!=2019.12.17 in /usr/local/lib/python3.7/dist-packages (from transformers) (2019.12.20)\n",
            "Requirement already satisfied: packaging>=20.0 in /usr/local/lib/python3.7/dist-packages (from transformers) (21.3)\n",
            "Requirement already satisfied: filelock in /usr/local/lib/python3.7/dist-packages (from transformers) (3.6.0)\n",
            "Requirement already satisfied: requests in /usr/local/lib/python3.7/dist-packages (from transformers) (2.23.0)\n",
            "Collecting pyyaml>=5.1\n",
            "  Downloading PyYAML-6.0-cp37-cp37m-manylinux_2_5_x86_64.manylinux1_x86_64.manylinux_2_12_x86_64.manylinux2010_x86_64.whl (596 kB)\n",
            "\u001b[K     |████████████████████████████████| 596 kB 40.5 MB/s \n",
            "\u001b[?25hRequirement already satisfied: typing-extensions>=3.7.4.3 in /usr/local/lib/python3.7/dist-packages (from huggingface-hub<1.0,>=0.1.0->transformers) (3.10.0.2)\n",
            "Requirement already satisfied: pyparsing!=3.0.5,>=2.0.2 in /usr/local/lib/python3.7/dist-packages (from packaging>=20.0->transformers) (3.0.7)\n",
            "Requirement already satisfied: zipp>=0.5 in /usr/local/lib/python3.7/dist-packages (from importlib-metadata->transformers) (3.7.0)\n",
            "Requirement already satisfied: urllib3!=1.25.0,!=1.25.1,<1.26,>=1.21.1 in /usr/local/lib/python3.7/dist-packages (from requests->transformers) (1.24.3)\n",
            "Requirement already satisfied: idna<3,>=2.5 in /usr/local/lib/python3.7/dist-packages (from requests->transformers) (2.10)\n",
            "Requirement already satisfied: certifi>=2017.4.17 in /usr/local/lib/python3.7/dist-packages (from requests->transformers) (2021.10.8)\n",
            "Requirement already satisfied: chardet<4,>=3.0.2 in /usr/local/lib/python3.7/dist-packages (from requests->transformers) (3.0.4)\n",
            "Requirement already satisfied: joblib in /usr/local/lib/python3.7/dist-packages (from sacremoses->transformers) (1.1.0)\n",
            "Requirement already satisfied: click in /usr/local/lib/python3.7/dist-packages (from sacremoses->transformers) (7.1.2)\n",
            "Requirement already satisfied: six in /usr/local/lib/python3.7/dist-packages (from sacremoses->transformers) (1.15.0)\n",
            "Installing collected packages: pyyaml, tokenizers, sacremoses, huggingface-hub, transformers\n",
            "  Attempting uninstall: pyyaml\n",
            "    Found existing installation: PyYAML 3.13\n",
            "    Uninstalling PyYAML-3.13:\n",
            "      Successfully uninstalled PyYAML-3.13\n",
            "Successfully installed huggingface-hub-0.5.1 pyyaml-6.0 sacremoses-0.0.49 tokenizers-0.11.6 transformers-4.18.0\n"
          ]
        }
      ],
      "source": [
        "!pip install transformers"
      ]
    },
    {
      "cell_type": "code",
      "execution_count": 2,
      "metadata": {
        "id": "6M2_t9rKVIrT"
      },
      "outputs": [],
      "source": [
        "import numpy as np\n",
        "import pandas as pd\n",
        "from sklearn.model_selection import train_test_split\n",
        "from sklearn.linear_model import LogisticRegression\n",
        "from sklearn.model_selection import GridSearchCV\n",
        "from sklearn.model_selection import cross_val_score\n",
        "import torch\n",
        "\n",
        "import warnings\n",
        "warnings.filterwarnings('ignore')"
      ]
    },
    {
      "cell_type": "code",
      "execution_count": 3,
      "metadata": {
        "id": "ERSbGwjrcKPZ",
        "colab": {
          "base_uri": "https://localhost:8080/",
          "height": 113,
          "referenced_widgets": [
            "b87cb2512f3d44b9b85484ce6c955f52",
            "4166f9fa2af54637a5663e420dace44d",
            "5a249cacbd36454d8c36d7132ec8ffb9",
            "af42f8c3411a4821b420c4748853401a",
            "603947d3cdf1490fa75d376d2178f1f2",
            "ca3ab365cb3443caab20815a7b5f8a9f",
            "4dbb347958794692a93914ec622ec534",
            "8492ef7a1aa549888c6a6cf1d0daa6fd",
            "2788c06423f34c92bc25d15dd465f1c5",
            "353814a11b704a5cb73c1349e416f415",
            "12a9a21289f7468783cc48e169502600",
            "c9091bd2f2dc47bdb2552a5a0ce11cbd",
            "53ed9e38fafd45cfb80f50a65046a186",
            "d8648fd4fa1c410182ba3f7cd4427502",
            "409fe0ea1778439da7160b5098209548",
            "1f9e167498304b539c323026bea20fff",
            "5b2b6f2bd112440c9a2ffe23e71bcea5",
            "486cbb712b9a4b7b91d2836241d1f5bc",
            "efbcbb06aa784e6ca86e4ca8c2136cd7",
            "9bfb837883674ed4aec4f2d7458ca225",
            "74c79beac57447d98f2c3c61bfd6c5ea",
            "19b0941b2ffc432ea4adf966501c7775",
            "f9cf4e6e5b7343cc9b8df337ffc918b7",
            "d778b37137134cc4ba4af33f9d77a85a",
            "76237020ac5649e1be58c0c086ca6dfd",
            "757c99b8d5a84739b027743f99d7752f",
            "eaa87a446f514a5cbe6ff8483f9c7e9f",
            "a454836f20024a3681dc356f9ae8fd2e",
            "670e0a43f66040448f7eb8cb5f4a6caa",
            "55a7856ce9264dc19b5c1cac9b154338",
            "6f0d353d24774ae0bfda2d43bae7ef7d",
            "aa6ef2c3dc8043899ea4e79b38ca4f65",
            "aa41fc3ca26641228a159a9d7faa8197"
          ]
        },
        "outputId": "fca0a552-0d7f-4fe7-d8c1-64c55eadb1c4"
      },
      "outputs": [
        {
          "output_type": "display_data",
          "data": {
            "text/plain": [
              "Downloading:   0%|          | 0.00/226k [00:00<?, ?B/s]"
            ],
            "application/vnd.jupyter.widget-view+json": {
              "version_major": 2,
              "version_minor": 0,
              "model_id": "b87cb2512f3d44b9b85484ce6c955f52"
            }
          },
          "metadata": {}
        },
        {
          "output_type": "display_data",
          "data": {
            "text/plain": [
              "Downloading:   0%|          | 0.00/28.0 [00:00<?, ?B/s]"
            ],
            "application/vnd.jupyter.widget-view+json": {
              "version_major": 2,
              "version_minor": 0,
              "model_id": "c9091bd2f2dc47bdb2552a5a0ce11cbd"
            }
          },
          "metadata": {}
        },
        {
          "output_type": "display_data",
          "data": {
            "text/plain": [
              "Downloading:   0%|          | 0.00/570 [00:00<?, ?B/s]"
            ],
            "application/vnd.jupyter.widget-view+json": {
              "version_major": 2,
              "version_minor": 0,
              "model_id": "f9cf4e6e5b7343cc9b8df337ffc918b7"
            }
          },
          "metadata": {}
        }
      ],
      "source": [
        "import torch\n",
        "from transformers import BertTokenizer, BertModel\n",
        "# device = torch.device(\"cuda\")\n",
        "# OPTIONAL: if you want to have more information on what's happening, activate the logger as follows\n",
        "import logging\n",
        "#logging.basicConfig(level=logging.INFO)\n",
        "\n",
        "import matplotlib.pyplot as plt\n",
        "% matplotlib inline\n",
        "\n",
        "# Load pre-trained model tokenizer (vocabulary)\n",
        "tokenizer = BertTokenizer.from_pretrained('bert-base-uncased')\n"
      ]
    },
    {
      "cell_type": "markdown",
      "source": [
        "#Getting strings of data"
      ],
      "metadata": {
        "id": "SUFPRPheHb37"
      }
    },
    {
      "cell_type": "code",
      "execution_count": null,
      "metadata": {
        "id": "1UIRo1BOcNy6"
      },
      "outputs": [],
      "source": [
        "#Upload the unzip and pickles of word embeddings"
      ]
    },
    {
      "cell_type": "code",
      "source": [
        "! git clone https://github.com/parsafarinnia/semantic_change_porject.git"
      ],
      "metadata": {
        "colab": {
          "base_uri": "https://localhost:8080/"
        },
        "id": "3LYutvVqGbCj",
        "outputId": "93eff84c-a03b-46ff-a9b7-2d78273ff947"
      },
      "execution_count": null,
      "outputs": [
        {
          "output_type": "stream",
          "name": "stdout",
          "text": [
            "Cloning into 'semantic_change_porject'...\n",
            "remote: Enumerating objects: 23, done.\u001b[K\n",
            "remote: Counting objects: 100% (23/23), done.\u001b[K\n",
            "remote: Compressing objects: 100% (20/20), done.\u001b[K\n",
            "remote: Total 23 (delta 6), reused 3 (delta 1), pack-reused 0\u001b[K\n",
            "Unpacking objects: 100% (23/23), done.\n"
          ]
        }
      ]
    },
    {
      "cell_type": "code",
      "execution_count": null,
      "metadata": {
        "id": "hs7UNvv6tj-o"
      },
      "outputs": [],
      "source": [
        "c1_raw = []\n",
        "c1_raw_strings = ''\n",
        "\n",
        "with open(\"/content/ccoha1.txt\") as fileobject:\n",
        "    for i,line in enumerate(fileobject):\n",
        "      if i%80==0:\n",
        "        c1_raw_strings += line\n",
        "\n",
        "c2_raw_strings = ''\n",
        "\n",
        "with open(\"/content/ccoha2.txt\") as fileobject:\n",
        "    for i,line in enumerate(fileobject):\n",
        "      if i%80==0:\n",
        "        c2_raw_strings += line  "
      ]
    },
    {
      "cell_type": "code",
      "source": [
        "import re\n",
        "\n",
        "regex = re.compile('[^a-zA-Z]')\n",
        "#First parameter is the replacement, second parameter is your input string\n",
        "c2_raw_strings=regex.sub(' ', c2_raw_strings)\n",
        "c1_raw_strings=regex.sub(' ', c1_raw_strings)"
      ],
      "metadata": {
        "id": "FQpxn-XyNJnc"
      },
      "execution_count": null,
      "outputs": []
    },
    {
      "cell_type": "markdown",
      "source": [
        "#Helper functions"
      ],
      "metadata": {
        "id": "-o8H9PvoHk0y"
      }
    },
    {
      "cell_type": "code",
      "execution_count": null,
      "metadata": {
        "id": "fJGC_XahXhaJ"
      },
      "outputs": [],
      "source": [
        "\n",
        "def chunk_text(some_string,x):\n",
        "  some_string = some_string.split()\n",
        "  for i in range(0, len(some_string), x):\n",
        "          yield some_string[i:i + x]"
      ]
    },
    {
      "cell_type": "code",
      "execution_count": null,
      "metadata": {
        "id": "IXcLCnODKwbL"
      },
      "outputs": [],
      "source": [
        "def divide_chunks(l, n):\n",
        "      \n",
        "    # looping till length l\n",
        "    result = []\n",
        "    for i in range(0, len(l), n): \n",
        "        result.append(l[i:i + n])\n",
        "    return result"
      ]
    },
    {
      "cell_type": "code",
      "execution_count": null,
      "metadata": {
        "id": "3dtK1mJNkAt7"
      },
      "outputs": [],
      "source": [
        "def clean_and_tokenize(tokenizer_version,text):\n",
        "  #Tokenize text \n",
        "  tokenized_cls = tokenizer_version.tokenize(\"[CLS]\")\n",
        "  tokenized_sep = tokenizer_version.tokenize(\"[SEP]\")\n",
        "  tokenized_text = tokenizer_version.tokenize(text)\n",
        "  #divide to 510 chunks\n",
        "  batches_text = divide_chunks(tokenized_text,510)\n",
        "  #add [CLS] and [SEP] tokens to each batch\n",
        "  for batch in batches_text:\n",
        "    batch.insert(0,tokenized_cls[0])\n",
        "    batch.append(tokenized_sep[0])\n",
        "  batches_text = batches_text[:-1]\n",
        "  batches_id = []\n",
        "  #get IDs of each batch\n",
        "  for batch in batches_text:\n",
        "    indexed_tokens = tokenizer_version.convert_tokens_to_ids(batch)\n",
        "    batches_id.append(indexed_tokens)\n",
        "  return batches_text, batches_id\n",
        "# Tokenize all of the sentences and map the tokens to thier word IDs.\n",
        "def tokenizer_func(tokenizer_kind,sentences):\n",
        "  '''\n",
        "  inputs:\n",
        "    tokenizer_kind: is the the tokenizer of choice (normal bert, tweet bert)  \n",
        "    sentences: the input string of curpos\n",
        "  outputs:\n",
        "  torchs of \n",
        "    ids : tensor of size len(input string)/512 X 512\n",
        "    segments: tensor of size len(input string)/512 X 512\n",
        "    tokenized tex :list of size len(input string)/512 X 512\n",
        "  '''\n",
        "  # For all the string\n",
        "  batches_text, batches_id = clean_and_tokenize(tokenizer_kind,sentences)\n",
        "  segments = [[1]*512]*len(batches_id)\n",
        "\n",
        "  return torch.Tensor(batches_id), torch.Tensor(segments),batches_text"
      ]
    },
    {
      "cell_type": "code",
      "execution_count": null,
      "metadata": {
        "id": "_0F88tH-X52k"
      },
      "outputs": [],
      "source": [
        "# #T\n",
        "#Make inverse word map fictionary\n",
        "word_list = []\n",
        "for batch in tokenized_texts:\n",
        "  word_list.extend(batch)\n",
        "inv_word_map = {}\n",
        "for i, word in enumerate(word_list):\n",
        "  inv_word_map[i] = word"
      ]
    },
    {
      "cell_type": "code",
      "execution_count": null,
      "metadata": {
        "id": "y1FH0z3UnGGY"
      },
      "outputs": [],
      "source": [
        "def average_embeddings(token_embeddings):\n",
        "  for token in token_embeddings:\n",
        "    sum_vec = torch.mean(token[-4:], dim=0)\n"
      ]
    },
    {
      "cell_type": "code",
      "execution_count": null,
      "metadata": {
        "id": "D9YEs8XCKAB8",
        "colab": {
          "base_uri": "https://localhost:8080/"
        },
        "outputId": "9a22817d-6200-4cb0-a079-5702744dba88"
      },
      "outputs": [
        {
          "output_type": "stream",
          "name": "stdout",
          "text": [
            "tokenizing done\n",
            "input_ids shape torch.Size([180, 512])\n"
          ]
        }
      ],
      "source": [
        "# def word_rep_to_dic(c1_raw_string):\n",
        "c1_raw_string =c2_raw_strings\n",
        "input_ids, segments,tokenized_texts=tokenizer_func(tokenizer,c1_raw_string)\n",
        "print('tokenizing done')\n",
        "input_ids = torch.tensor(input_ids).long()\n",
        "segments = torch.tensor(segments).long()\n",
        "print('input_ids shape',input_ids.size())\n",
        "word_list = []\n",
        "for batch in tokenized_texts:\n",
        "  word_list.extend(batch)\n",
        "inv_word_map = {}\n",
        "for i, word in enumerate(word_list):\n",
        "  inv_word_map[i] = word"
      ]
    },
    {
      "cell_type": "code",
      "source": [
        "del c2_raw_strings\n",
        "del c1_raw_string"
      ],
      "metadata": {
        "id": "993Xd_3dlgm3"
      },
      "execution_count": null,
      "outputs": []
    },
    {
      "cell_type": "code",
      "source": [
        "model = BertModel.from_pretrained('bert-base-uncased',\n",
        "                                output_hidden_states = True, # Whether the model returns all hidden-states.\n",
        "                                )\n",
        "model.to(device)\n",
        "\n",
        "# Put the model in \"evaluation\" mode, meaning feed-forward operation.\n",
        "bs = 10\n",
        "number_of_batch = int(input_ids.size()[0]/bs)\n",
        "print('number of batches are: ', number_of_batch)\n",
        "last_batch_size = input_ids.size()[0] - number_of_batch*bs\n",
        "model.eval()\n",
        "hidden_states_all = []\n",
        "with torch.no_grad():\n",
        "  for i in range(number_of_batch):\n",
        "    print('progres===> batch number',i)\n",
        "    # if i == number_of_batch-1:\n",
        "    #   upper = last_batch_size\n",
        "    # else:\n",
        "    upper = (i+1)*bs\n",
        "    batch_inputZ_ids = input_ids[i*bs:upper,:]\n",
        "    batch_inputZ_ids = batch_inputZ_ids.to(device)\n",
        "    batch_segments = segments[i*bs:upper,:]\n",
        "    batch_segments = batch_segments.to(device)\n",
        "    outputs = model(batch_inputZ_ids, batch_segments)\n",
        "    # Evaluating the model will return a different number of objects based on \n",
        "    # how it's  configured in the `from_pretrained` call earlier. In this case, \n",
        "    # becase we set `output_hidden_states = True`, the third item will be the \n",
        "    # hidden states from all layers. See the documentation for more details:\n",
        "    # https://huggingface.co/transformers/model_doc/bert.html#bertmodel\n",
        "    hidden_states = outputs[2]\n",
        "    # for idx in range(13):\n",
        "    #   print(type(hidden_states[idx]))\n",
        "    #   print(len(hidden_states[idx]))\n",
        "    #   print(hidden_states[idx])\n",
        "    hidden_states = torch.stack(hidden_states, dim=0)\n",
        "    hidden_states = hidden_states.detach().cpu()\n",
        "    hidden_states_all.append(hidden_states)\n",
        "# Concatenate the tensors for all layers. We use `stack` here to\n",
        "# create a new dimension in the tensor."
      ],
      "metadata": {
        "colab": {
          "base_uri": "https://localhost:8080/"
        },
        "id": "InEWCfL8feAj",
        "outputId": "2f75a7cd-4fc9-408a-893f-d20cc96c365f"
      },
      "execution_count": null,
      "outputs": [
        {
          "output_type": "stream",
          "name": "stderr",
          "text": [
            "Some weights of the model checkpoint at bert-base-uncased were not used when initializing BertModel: ['cls.seq_relationship.bias', 'cls.predictions.transform.LayerNorm.bias', 'cls.predictions.transform.LayerNorm.weight', 'cls.predictions.decoder.weight', 'cls.predictions.transform.dense.bias', 'cls.seq_relationship.weight', 'cls.predictions.bias', 'cls.predictions.transform.dense.weight']\n",
            "- This IS expected if you are initializing BertModel from the checkpoint of a model trained on another task or with another architecture (e.g. initializing a BertForSequenceClassification model from a BertForPreTraining model).\n",
            "- This IS NOT expected if you are initializing BertModel from the checkpoint of a model that you expect to be exactly identical (initializing a BertForSequenceClassification model from a BertForSequenceClassification model).\n"
          ]
        },
        {
          "output_type": "stream",
          "name": "stdout",
          "text": [
            "number of batches are:  18\n",
            "progres===> batch number 0\n",
            "progres===> batch number 1\n",
            "progres===> batch number 2\n",
            "progres===> batch number 3\n",
            "progres===> batch number 4\n",
            "progres===> batch number 5\n",
            "progres===> batch number 6\n",
            "progres===> batch number 7\n",
            "progres===> batch number 8\n",
            "progres===> batch number 9\n",
            "progres===> batch number 10\n",
            "progres===> batch number 11\n",
            "progres===> batch number 12\n",
            "progres===> batch number 13\n",
            "progres===> batch number 14\n",
            "progres===> batch number 15\n",
            "progres===> batch number 16\n",
            "progres===> batch number 17\n"
          ]
        }
      ]
    },
    {
      "cell_type": "code",
      "execution_count": null,
      "metadata": {
        "id": "04SR7wz-K2U7"
      },
      "outputs": [],
      "source": [
        "\n",
        "\n",
        "token_embeddings = torch.cat(hidden_states_all, dim=1)\n",
        "print(token_embeddings.size())\n",
        "# token_embeddings = torch.squeeze(token_embeddings, dim=1)\n",
        "token_embeddings = token_embeddings.permute(1,2,0,3)\n",
        "token_embeddings = token_embeddings.flatten(0,1)\n",
        "token_vecs_sum = []\n",
        "\n",
        "# `token_embeddings` is a [22 x 12 x 768] tensor.\n",
        "\n",
        "# For each token in the sentence...\n",
        "for token in token_embeddings:\n",
        "\n",
        "    # `token` is a [12 x 768] tensor\n",
        "\n",
        "    # Sum the vectors from the last four layers.\n",
        "    sum_vec = torch.sum(token[-4:], dim=0)\n",
        "    \n",
        "    # Use `sum_vec` to represent `token`.\n",
        "    token_vecs_sum.append(sum_vec)\n",
        "word_vec_pre_process = {}\n",
        "for i,vector in enumerate(token_vecs_sum):\n",
        "  if inv_word_map[i] not in word_vec_pre_process:\n",
        "    word_vec_pre_process[inv_word_map[i]] = (vector.unsqueeze(0),0) \n",
        "  else:\n",
        "    word_vec_pre_process[inv_word_map[i]] = (torch.cat((word_vec_pre_process[inv_word_map[i]][0],vector.unsqueeze(0)),dim=0), word_vec_pre_process[inv_word_map[i]][1]+1)  \n",
        "for word in word_vec_pre_process:\n",
        "  word_vec_pre_process[word] = (torch.mean(word_vec_pre_process[word][0], dim=0),word_vec_pre_process[word][1])\n",
        "  \n",
        "\n",
        "  # return word_vec_pre_process\n"
      ]
    },
    {
      "cell_type": "code",
      "source": [
        "del token_embeddings\n",
        "del token_vecs_sum "
      ],
      "metadata": {
        "id": "8VDl8x17fW4x"
      },
      "execution_count": null,
      "outputs": []
    },
    {
      "cell_type": "markdown",
      "source": [
        "#Getting word embeddings and frequencies"
      ],
      "metadata": {
        "id": "IMrhftgPHqIL"
      }
    },
    {
      "cell_type": "markdown",
      "source": [
        "##building the dictionaries"
      ],
      "metadata": {
        "id": "mKdWXwVsIK31"
      }
    },
    {
      "cell_type": "code",
      "execution_count": null,
      "metadata": {
        "id": "w_V5QDm0bLz6"
      },
      "outputs": [],
      "source": [
        "test_dic_2 = word_vec_pre_process\n",
        "import pickle\n",
        "with open('test_dic_2.pickle', 'wb') as handle:\n",
        "    pickle.dump(test_dic_2, handle, protocol=pickle.HIGHEST_PROTOCOL)\n",
        "\n",
        "# with open('filename.pickle', 'rb') as handle:\n",
        "#     b = pickle.load(handle)"
      ]
    },
    {
      "cell_type": "code",
      "execution_count": null,
      "metadata": {
        "colab": {
          "base_uri": "https://localhost:8080/"
        },
        "id": "RC1s1y_0hh58",
        "outputId": "6ef60ede-ea2a-464f-b1e1-c6546fab694f"
      },
      "outputs": [
        {
          "output_type": "stream",
          "name": "stderr",
          "text": [
            "Some weights of the model checkpoint at bert-base-uncased were not used when initializing BertModel: ['cls.predictions.transform.dense.bias', 'cls.predictions.decoder.weight', 'cls.seq_relationship.weight', 'cls.predictions.transform.LayerNorm.weight', 'cls.predictions.transform.dense.weight', 'cls.seq_relationship.bias', 'cls.predictions.transform.LayerNorm.bias', 'cls.predictions.bias']\n",
            "- This IS expected if you are initializing BertModel from the checkpoint of a model trained on another task or with another architecture (e.g. initializing a BertForSequenceClassification model from a BertForPreTraining model).\n",
            "- This IS NOT expected if you are initializing BertModel from the checkpoint of a model that you expect to be exactly identical (initializing a BertForSequenceClassification model from a BertForSequenceClassification model).\n"
          ]
        }
      ],
      "source": [
        "# test_dic_2 = word_rep_to_dic(c2_raw_string)"
      ]
    },
    {
      "cell_type": "markdown",
      "source": [
        "##Filtering sub words with hashtag and [CLS] and [SEP] and punctuation and using word representations from memmory to avoid crash"
      ],
      "metadata": {
        "id": "N7qTgZvYIQsy"
      }
    },
    {
      "cell_type": "code",
      "source": [
        "import pickle\n",
        "with open('/content/test_dic_1.pickle', 'rb') as handle:\n",
        "    test_dic_1 = pickle.load(handle)\n",
        "with open('/content/test_dic_2.pickle', 'rb') as handle:\n",
        "    test_dic_2 = pickle.load(handle)"
      ],
      "metadata": {
        "id": "TlKpBCUjMrdW"
      },
      "execution_count": null,
      "outputs": []
    },
    {
      "cell_type": "code",
      "source": [
        "test_dic_1 = {key: value for key, value in test_dic_1.items() if((not key.startswith('##')) and (not key =='[SEP]') and (not key =='[CLS]'))}\n",
        "test_dic_2 = {key: value for key, value in test_dic_2.items() if((not key.startswith('##')) and (not key =='[SEP]') and (not key =='[CLS]'))}"
      ],
      "metadata": {
        "id": "YlaqTGIrIbbe"
      },
      "execution_count": null,
      "outputs": []
    },
    {
      "cell_type": "markdown",
      "source": [
        "#MLM fine tuning"
      ],
      "metadata": {
        "id": "ipFV87L_rvgP"
      }
    },
    {
      "cell_type": "code",
      "source": [
        "load_tokenized = False\n",
        "BERT_name = 'VANILLA'\n",
        "models = {\n",
        "          'VANILLA':\"bert-base-uncased\"\n",
        "        }\n",
        "model_name = models[BERT_name] \n",
        "\n",
        "rev_per_res = 200\n",
        "bs = 16\n",
        "MAX = 512"
      ],
      "metadata": {
        "id": "iCenxRnFr3kf"
      },
      "execution_count": 5,
      "outputs": []
    },
    {
      "cell_type": "code",
      "source": [
        "from transformers import AutoTokenizer, AutoModel,BertForPreTraining,AutoModelForMaskedLM\n",
        "import torch\n",
        "\n",
        "tokenizer = AutoTokenizer.from_pretrained(model_name)\n",
        "\n",
        "model = AutoModelForMaskedLM.from_pretrained(model_name)"
      ],
      "metadata": {
        "colab": {
          "base_uri": "https://localhost:8080/",
          "height": 153,
          "referenced_widgets": [
            "d7f32eae90ac43529a7f2daec7f1cf55",
            "c8c34289e0a240f981199b635d6283fa",
            "abb8a7a8d47448e890b8e18f93e1f700",
            "b39ac468ee77437e91d85d6e6502ebfc",
            "c0a9e0602b9e4bdabe4fe398b656e078",
            "b989a854a46947a89252c12aef69ddfa",
            "73175d92a81e4ac1b73270b345f89a03",
            "b1386c9955c64cd5b36edd7184f12d0c",
            "b76902632e94490ebee52f5c0c9bdfb9",
            "db5331fd52d144cf8a9d7a46e00f49eb",
            "b8256ca818c944f0b94b7303a0fe81dd",
            "9556c48e4d584f8aab925314531c7098",
            "8f7122e24b1e41b98d450e269afcabb7",
            "ca6daaf868e8484ba14be1f10d131de6",
            "6ed6270781e941769b2dbb9951317047",
            "49031a7f17a240cfbbef0e6ed0f81764",
            "7444728dfd8b4037a918b9067ac83a41",
            "88790adff6904e479c1809038ce8b970",
            "82a6de93aa00424ca227da5bd4f7d177",
            "addc064c240d43e3a53f8a3ccbca2927",
            "a0dc294d04cc43dc9680a9b91781ce04",
            "e20eaa51162f43108e7b2c857d609c9d"
          ]
        },
        "id": "LDWKnzUhsBqp",
        "outputId": "a0637136-9902-4096-cc47-43195cbd74e9"
      },
      "execution_count": 6,
      "outputs": [
        {
          "output_type": "display_data",
          "data": {
            "text/plain": [
              "Downloading:   0%|          | 0.00/455k [00:00<?, ?B/s]"
            ],
            "application/vnd.jupyter.widget-view+json": {
              "version_major": 2,
              "version_minor": 0,
              "model_id": "d7f32eae90ac43529a7f2daec7f1cf55"
            }
          },
          "metadata": {}
        },
        {
          "output_type": "display_data",
          "data": {
            "text/plain": [
              "Downloading:   0%|          | 0.00/420M [00:00<?, ?B/s]"
            ],
            "application/vnd.jupyter.widget-view+json": {
              "version_major": 2,
              "version_minor": 0,
              "model_id": "9556c48e4d584f8aab925314531c7098"
            }
          },
          "metadata": {}
        },
        {
          "output_type": "stream",
          "name": "stderr",
          "text": [
            "Some weights of the model checkpoint at bert-base-uncased were not used when initializing BertForMaskedLM: ['cls.seq_relationship.weight', 'cls.seq_relationship.bias']\n",
            "- This IS expected if you are initializing BertForMaskedLM from the checkpoint of a model trained on another task or with another architecture (e.g. initializing a BertForSequenceClassification model from a BertForPreTraining model).\n",
            "- This IS NOT expected if you are initializing BertForMaskedLM from the checkpoint of a model that you expect to be exactly identical (initializing a BertForSequenceClassification model from a BertForSequenceClassification model).\n"
          ]
        }
      ]
    },
    {
      "cell_type": "code",
      "source": [
        "# Tokenize all of the sentences and map the tokens to thier word IDs.\n",
        "def tokenizer_func(tokenizer_kind,sentences,max_length=512):\n",
        " \n",
        "  input_ids = []\n",
        "  attention_masks = []\n",
        "\n",
        "  # For every sentence...\n",
        "  for sent in tqdm(sentences):\n",
        "      # `encode_plus` will:\n",
        "      #   (1) Tokenize the sentence.\n",
        "      #   (2) Prepend the `[CLS]` token to the start.\n",
        "      #   (3) Append the `[SEP]` token to the end.\n",
        "      #   (4) Map tokens to their IDs.\n",
        "      #   (5) Pad or truncate the sentence to `max_length`\n",
        "      #   (6) Create attention masks for [PAD] tokens.\n",
        "      encoded_dict = tokenizer_kind.encode_plus(\n",
        "                          sent,                      # Sentence to encode.\n",
        "                          add_special_tokens = True, # Add '[CLS]' and '[SEP]'\n",
        "                          max_length = max_length,           # Pad & truncate all sentences.\n",
        "                          pad_to_max_length = True,\n",
        "                          return_attention_mask = True,   # Construct attn. masks.\n",
        "                          return_tensors = 'pt',     # Return pytorch tensors.\n",
        "                          truncation=True,\n",
        "                    )\n",
        "      \n",
        "      # Add the encoded sentence to the list.    \n",
        "      input_ids.append(encoded_dict['input_ids'])\n",
        "      \n",
        "      # And its attention mask (simply differentiates padding from non-padding).\n",
        "      attention_masks.append(encoded_dict['attention_mask'])\n",
        "\n",
        "  # Convert the lists into tensors.\n",
        "  input_ids = torch.cat(input_ids, dim=0)\n",
        "  attention_masks = torch.cat(attention_masks, dim=0)\n",
        "  inputs = {}\n",
        "  inputs['input_ids'] = input_ids\n",
        "  inputs['attention_mask'] = attention_masks\n",
        "  \n",
        "  return inputs\n",
        "  # Print sentence 0, now as a list of IDs."
      ],
      "metadata": {
        "id": "FPFLRCfmss9F"
      },
      "execution_count": null,
      "outputs": []
    },
    {
      "cell_type": "code",
      "source": [
        "# for text in tqdm(texts):\n",
        "\n",
        "if not load_tokenized:\n",
        "  # df = pd.read_csv('./drive/MyDrive/SIGIR 2022/Cleaned_Data/400_review_3_star_above - 400_review_3_star_above.csv')\n",
        "  df_val = pd.read_csv('./drive/MyDrive/CSC2611/vall_data 512.csv')\n",
        "  df_train = pd.read_csv('./drive/MyDrive/CSC2611/train_data 512.csv')\n",
        "\n",
        "  train_text = list(df_train.text.values)\n",
        "  val_text = list(df_val.text.values)\n",
        "  # print(len(train_text),len(val_text))\n",
        "\n",
        "  inputs = tokenizer_func(tokenizer,train_text, MAX)\n",
        "  val_inputs = tokenizer_func(tokenizer,val_text, MAX)\n",
        "  # inputs['labels'] = inputs.input_ids.detach().clone()\n",
        "  torch.save(inputs,'train_'+str(MAX)+'_'+BERT_name+'.pt')\n",
        "  torch.save(val_inputs,'val_'+str(MAX)+'_'+BERT_name+'.pt')\n",
        "  print('Saved the tokenized data with truncation at ',MAX)\n"
      ],
      "metadata": {
        "colab": {
          "base_uri": "https://localhost:8080/"
        },
        "id": "mBtA1z-cnPuw",
        "outputId": "a1d9f6ca-9718-4816-93ac-7941f3043132"
      },
      "execution_count": null,
      "outputs": [
        {
          "output_type": "stream",
          "name": "stdout",
          "text": [
            "(25658, 8)\n",
            "10000 1280\n",
            "10000 1280\n"
          ]
        },
        {
          "output_type": "stream",
          "name": "stderr",
          "text": [
            "  0%|          | 0/10000 [00:00<?, ?it/s]/usr/local/lib/python3.7/dist-packages/transformers/tokenization_utils_base.py:2257: FutureWarning: The `pad_to_max_length` argument is deprecated and will be removed in a future version, use `padding=True` or `padding='longest'` to pad to the longest sequence in the batch, or use `padding='max_length'` to pad to a max length. In this case, you can give a specific length with `max_length` (e.g. `max_length=45`) or leave max_length to None to pad to the maximal input size of the model (e.g. 512 for Bert).\n",
            "  FutureWarning,\n",
            "100%|██████████| 10000/10000 [00:07<00:00, 1279.23it/s]\n",
            "100%|██████████| 1280/1280 [00:00<00:00, 1334.99it/s]\n"
          ]
        },
        {
          "output_type": "stream",
          "name": "stdout",
          "text": [
            "Saved the tokenized data with truncation at  512\n"
          ]
        }
      ]
    },
    {
      "cell_type": "code",
      "source": [
        "inputs['labels'] = inputs['input_ids'].detach().clone()\n",
        "val_inputs['labels'] = val_inputs['input_ids'].detach().clone()"
      ],
      "metadata": {
        "id": "RGxqwPYnuagA"
      },
      "execution_count": null,
      "outputs": []
    },
    {
      "cell_type": "code",
      "source": [
        "# create random array of floats with equal dimensions to input_ids tensor\n",
        "def get_mask(inp):\n",
        "  ids = inp['input_ids'].reshape(1,-1)\n",
        "  rand = torch.rand(ids.shape)\n",
        "  # create mask array\n",
        "  # MASK 103, CLS 101, SEP 102\n",
        "  mask_arr = (rand < 0.15) * (ids != 101) * \\\n",
        "            (ids != 102) * (ids != 0)\n",
        "  selection = []\n",
        "  mask_arr = mask_arr.long()\n",
        "  # print(mask_arr)\n",
        "  for i in range(ids.shape[0]):\n",
        "      selection.append(\n",
        "          torch.flatten(mask_arr[i].nonzero()).tolist()\n",
        "      )\n",
        "  return selection"
      ],
      "metadata": {
        "id": "GrwD99VounEG"
      },
      "execution_count": null,
      "outputs": []
    },
    {
      "cell_type": "code",
      "source": [
        "class MeditationsDataset(torch.utils.data.Dataset):\n",
        "    def __init__(self, encodings):\n",
        "        self.encodings = encodings\n",
        "    def __getitem__(self, idx):\n",
        "        \n",
        "        d = {key: torch.tensor(val[idx]) for key, val in self.encodings.items()} \n",
        "        s = get_mask(d)\n",
        "        # print(d['input_ids'].reshape(1,-1),s)\n",
        "        # for i in range(d['input_ids'].shape[0]):\n",
        "        d['input_ids'][s[0]] = 103\n",
        "        return d\n",
        "    def __len__(self):\n",
        "        return len(self.encodings['input_ids'])"
      ],
      "metadata": {
        "id": "5ntxhqSIuqEm"
      },
      "execution_count": null,
      "outputs": []
    },
    {
      "cell_type": "code",
      "source": [
        "dataset = MeditationsDataset(inputs)\n",
        "val_dataset = MeditationsDataset(val_inputs)"
      ],
      "metadata": {
        "id": "8Fjhar4WusJH"
      },
      "execution_count": null,
      "outputs": []
    },
    {
      "cell_type": "code",
      "source": [
        "device = torch.device('cuda') if torch.cuda.is_available() else torch.device('cpu')\n",
        "# and move our model over to the selected device\n",
        "print(device)\n",
        "model.to(device)\n",
        "# activate training mode\n",
        "model.train()\n",
        "print('ready')"
      ],
      "metadata": {
        "colab": {
          "base_uri": "https://localhost:8080/"
        },
        "id": "lIsySL0gnXWH",
        "outputId": "7eba5182-46f7-41c7-ec6b-20d28877ef32"
      },
      "execution_count": null,
      "outputs": [
        {
          "output_type": "stream",
          "name": "stdout",
          "text": [
            "cuda\n",
            "ready\n"
          ]
        }
      ]
    },
    {
      "cell_type": "code",
      "source": [
        "from transformers import TrainingArguments\n",
        "args = TrainingArguments(\n",
        "    output_dir=BERT_name+'_'+str(bs)+'_'+str(MAX)+'_MLM',\n",
        "    per_device_train_batch_size=bs,\n",
        "    per_device_eval_batch_size = bs,\n",
        "    num_train_epochs=100,\n",
        "    learning_rate=1e-05,\n",
        "    load_best_model_at_end =True,\n",
        "    evaluation_strategy = \"epoch\",\n",
        "    save_strategy = \"epoch\",\n",
        "    logging_strategy = \"epoch\",\n",
        ")"
      ],
      "metadata": {
        "id": "Fe-Q8_jAux0P"
      },
      "execution_count": null,
      "outputs": []
    },
    {
      "cell_type": "code",
      "source": [
        "from transformers import Trainer,EarlyStoppingCallback\n",
        "\n",
        "\n",
        "trainer = Trainer(\n",
        "    model=model,\n",
        "    args=args,\n",
        "    train_dataset=dataset,\n",
        "    eval_dataset= val_dataset,\n",
        "    callbacks = [EarlyStoppingCallback(4,0.0)]\n",
        ")"
      ],
      "metadata": {
        "id": "a6hB9Rhwuz_Q"
      },
      "execution_count": null,
      "outputs": []
    },
    {
      "cell_type": "code",
      "source": [
        "trainer.train()"
      ],
      "metadata": {
        "id": "pB1yoMC3u1ZL"
      },
      "execution_count": null,
      "outputs": []
    },
    {
      "cell_type": "markdown",
      "source": [
        "#Calculating the semantic perserving words"
      ],
      "metadata": {
        "id": "dKL5KtdeH2cM"
      }
    },
    {
      "cell_type": "markdown",
      "source": [
        "##Getting semantic changed words with "
      ],
      "metadata": {
        "id": "y8kU80yQH_9E"
      }
    },
    {
      "cell_type": "code",
      "source": [
        "same_words = list(set(set(test_dic_2.keys()) & set(test_dic_1.keys())))\n",
        "len(same_words)"
      ],
      "metadata": {
        "colab": {
          "base_uri": "https://localhost:8080/"
        },
        "id": "nEr5bQ0ApTBM",
        "outputId": "49e5313f-c571-4939-8ba6-a1480ca6133c"
      },
      "execution_count": null,
      "outputs": [
        {
          "output_type": "execute_result",
          "data": {
            "text/plain": [
              "4708"
            ]
          },
          "metadata": {},
          "execution_count": 8
        }
      ]
    },
    {
      "cell_type": "code",
      "source": [
        "difference_dict = {}\n",
        "cos = torch.nn.CosineSimilarity(dim=0)\n",
        "for word in same_words:\n",
        "  difference_dict[word] = (float(cos(test_dic_1[word][0],test_dic_2[word][0]).numpy().astype(np.float32)),(min(test_dic_1[word][1],test_dic_2[word][1])))"
      ],
      "metadata": {
        "id": "vmQ3yt66qBNt"
      },
      "execution_count": null,
      "outputs": []
    },
    {
      "cell_type": "code",
      "source": [
        "# difference_dict.items()"
      ],
      "metadata": {
        "id": "GkmwRWc5zSXI",
        "outputId": "d674cd31-63c1-4c30-9b1e-e95ec0d242ff",
        "colab": {
          "base_uri": "https://localhost:8080/"
        }
      },
      "execution_count": null,
      "outputs": [
        {
          "output_type": "execute_result",
          "data": {
            "text/plain": [
              "dict_items([('deep', (0.7036608457565308, 0)), ('beat', (0.5960277318954468, 0)), ('appoint', (0.6637331247329712, 0)), ('of', (0.986420750617981, 49)), ('yes', (0.6626576781272888, 0)), ('hi', (0.4077017605304718, 0)), ('most', (0.5904287695884705, 0)), ('ho', (0.6089327335357666, 0)), ('button', (0.49415773153305054, 0)), ('weapon', (0.6826935410499573, 0)), ('same', (0.8062039017677307, 0)), ('influence', (0.6105726957321167, 0)), ('himself', (0.8774850964546204, 2)), ('head', (0.7683360576629639, 1)), ('trouble', (0.7637346982955933, 0)), ('have', (0.9739115238189697, 23)), ('person', (0.7376757264137268, 0)), ('often', (0.8121248483657837, 0)), ('discharge', (0.676744818687439, 0)), ('species', (0.729433000087738, 0)), ('el', (0.38551852107048035, 0)), ('think', (0.8257969617843628, 0)), ('people', (0.8704149127006531, 2)), ('st', (0.5560790300369263, 0)), ('i', (0.9432547688484192, 10)), ('tender', (0.6984021067619324, 0)), ('time', (0.8781933188438416, 3)), ('know', (0.7030512094497681, 0)), ('so', (0.9206935167312622, 3)), ('nor', (0.8738164901733398, 1)), ('difficulty', (0.7823368906974792, 0)), ('bless', (0.5447173118591309, 0)), ('will', (0.9364759922027588, 3)), ('th', (0.5713132619857788, 0)), ('work', (0.7692646384239197, 0)), ('leave', (0.809863805770874, 1)), ('t', (0.7177523374557495, 0)), ('spread', (0.6445006132125854, 0)), ('open', (0.7723044753074646, 0)), ('give', (0.8719375729560852, 3)), ('next', (0.8680901527404785, 1)), ('men', (0.5785754919052124, 0)), ('soul', (0.8316241502761841, 1)), ('hour', (0.7610062956809998, 0)), ('hold', (0.685085654258728, 0)), ('world', (0.7751685976982117, 2)), ('woman', (0.843120276927948, 0)), ('other', (0.8711678385734558, 3)), ('general', (0.7168505191802979, 0)), ('great', (0.8259696364402771, 3)), ('hundred', (0.6575068235397339, 0)), ('the', (0.9871149063110352, 90)), ('fruit', (0.7350956797599792, 0)), ('part', (0.7090132832527161, 0)), ('artist', (0.8316150307655334, 0)), ('these', (0.8909026980400085, 3)), ('it', (0.9789571762084961, 17)), ('moment', (0.8059780597686768, 0)), ('extend', (0.7130414843559265, 0)), ('gloom', (0.6245400905609131, 0)), ('least', (0.7531735897064209, 0)), ('s', (0.8524237871170044, 1)), ('professor', (0.7668654918670654, 0)), ('life', (0.7641478180885315, 0)), ('cause', (0.7904739379882812, 1)), ('hope', (0.8089025616645813, 0)), ('water', (0.8160184025764465, 1)), ('become', (0.7283567190170288, 0)), ('present', (0.7359886169433594, 0)), ('always', (0.8510358929634094, 0)), ('soil', (0.7496629953384399, 0)), ('character', (0.8391771912574768, 0)), ('down', (0.7989099621772766, 1)), ('little', (0.8104299902915955, 3)), ('throw', (0.5702313184738159, 0)), ('pu', (0.6144828200340271, 0)), ('ear', (0.624357283115387, 0)), ('trust', (0.636148989200592, 0)), ('source', (0.690377414226532, 0)), ('say', (0.9331690073013306, 3)), ('family', (0.7910842895507812, 0)), ('color', (0.835408091545105, 2)), ('master', (0.6526219248771667, 0)), ('them', (0.8471282720565796, 1)), ('carefully', (0.7316082715988159, 0)), ('comfort', (0.8493444919586182, 0)), ('mighty', (0.7553268074989319, 0)), ('week', (0.7973862290382385, 0)), ('me', (0.8571630716323853, 1)), ('call', (0.6311275959014893, 0)), ('receive', (0.7838074564933777, 0)), ('nu', (0.8837547898292542, 0)), ('his', (0.9510197043418884, 25)), ('she', (0.9080954194068909, 1)), ('affection', (0.680583119392395, 0)), ('all', (0.9373299479484558, 6)), ('change', (0.7079775333404541, 0)), ('lay', (0.7086014151573181, 0)), ('captain', (0.736470639705658, 0)), ('demand', (0.7674544453620911, 0)), ('injury', (0.7960707545280457, 0)), ('rather', (0.6636260747909546, 0)), ('cut', (0.7102125287055969, 0)), ('approach', (0.6347306966781616, 0)), ('good', (0.7862346172332764, 0)), ('pure', (0.7063362002372742, 0)), ('wave', (0.7017324566841125, 1)), ('knowledge', (0.7254546284675598, 0)), ('traveler', (0.7069696187973022, 0)), ('our', (0.8993671536445618, 1)), ('fast', (0.731259822845459, 0)), ('should', (0.9171259999275208, 1)), ('over', (0.8943381309509277, 2)), ('um', (0.47353583574295044, 0)), ('shell', (0.802459180355072, 0)), ('father', (0.7683135271072388, 0)), ('yard', (0.5089821815490723, 0)), ('back', (0.47296854853630066, 0)), ('thing', (0.7797873616218567, 1)), ('since', (0.5914263129234314, 0)), ('sun', (0.8534353971481323, 0)), ('live', (0.7242695093154907, 0)), ('seek', (0.7081284523010254, 0)), ('move', (0.7947662472724915, 0)), ('friend', (0.8341612815856934, 0)), ('on', (0.8926928043365479, 10)), ('ground', (0.810126006603241, 0)), ('come', (0.6971415877342224, 0)), ('peru', (0.39791339635849, 0)), ('france', (0.8110789656639099, 0)), ('folly', (0.7429502010345459, 0)), ('create', (0.6926590204238892, 0)), ('per', (0.7149906754493713, 0)), ('answer', (0.7722117304801941, 0)), ('steady', (0.7052417397499084, 0)), ('breast', (0.7206785082817078, 0)), ('constantly', (0.677020251750946, 0)), ('relate', (0.6247439384460449, 0)), ('prophecy', (0.7990737557411194, 0)), ('send', (0.7737402319908142, 0)), ('death', (0.7367628216743469, 0)), ('worthy', (0.8014280200004578, 0)), ('every', (0.9196162819862366, 3)), ('figure', (0.5964049100875854, 0)), ('n', (0.975968062877655, 5)), ('former', (0.6568348407745361, 0)), ('now', (0.8955711722373962, 1)), ('frank', (0.4820883870124817, 0)), ('consider', (0.7106786966323853, 0)), ('skill', (0.7250710129737854, 0)), ('fact', (0.7500409483909607, 1)), ('day', (0.816456139087677, 1)), ('continue', (0.5001452565193176, 0)), ('under', (0.7419626116752625, 1)), ('many', (0.7954066395759583, 1)), ('roll', (0.7329931855201721, 1)), ('while', (0.7172330617904663, 0)), ('may', (0.9599402546882629, 8)), ('from', (0.8716275691986084, 2)), ('pay', (0.6071312427520752, 0)), ('capital', (0.5888830423355103, 0)), ('flower', (0.6487494707107544, 0)), ('america', (0.7164313197135925, 0)), ('an', (0.9490407705307007, 7)), ('then', (0.915293276309967, 3)), ('cast', (0.5562782287597656, 0)), ('direct', (0.7165384888648987, 0)), ('hawk', (0.6831544041633606, 0)), ('level', (0.5883886218070984, 0)), ('second', (0.7935864925384521, 0)), ('candle', (0.6933340430259705, 0)), ('city', (0.8380293250083923, 0)), ('exercise', (0.6765263080596924, 0)), ('more', (0.8385305404663086, 1)), ('pearl', (0.6366278529167175, 0)), ('once', (0.6807641386985779, 0)), ('black', (0.5563898682594299, 0)), ('escape', (0.7545816898345947, 0)), ('restore', (0.72388756275177, 0)), ('period', (0.6424272656440735, 0)), ('sleep', (0.6567614674568176, 0)), ('enough', (0.6779432892799377, 0)), ('harry', (0.7067311406135559, 0)), ('some', (0.7147602438926697, 1)), ('watch', (0.6347418427467346, 0)), ('peace', (0.79547518491745, 0)), ('face', (0.8387035727500916, 1)), ('us', (0.9098519682884216, 1)), ('doubt', (0.5226470232009888, 0)), ('return', (0.8203253746032715, 1)), ('vision', (0.6920291781425476, 0)), ('mine', (0.8036782145500183, 1)), ('burst', (0.7142127752304077, 0)), ('mother', (0.8627899289131165, 1)), ('prove', (0.6442744731903076, 0)), ('discover', (0.7439618110656738, 0)), ('employ', (0.6577216386795044, 0)), ('body', (0.6990982294082642, 0)), ('lose', (0.6163240075111389, 0)), ('serious', (0.8217633366584778, 1)), ('bold', (0.5155699253082275, 0)), ('imp', (0.7029814720153809, 0)), ('con', (0.8196104168891907, 1)), ('point', (0.432587593793869, 0)), ('waste', (0.792827844619751, 0)), ('except', (0.6178054213523865, 0)), ('dec', (0.43214207887649536, 0)), ('several', (0.7661210298538208, 0)), ('benefit', (0.6005799174308777, 0)), ('blue', (0.8494495153427124, 1)), ('f', (0.724502682685852, 0)), ('love', (0.4771592617034912, 0)), ('sl', (0.6587515473365784, 0)), ('sure', (0.4849490821361542, 0)), ('rep', (0.7631253004074097, 0)), ('too', (0.9072303175926208, 3)), ('at', (0.9263576865196228, 5)), ('bring', (0.7765154242515564, 0)), ('there', (0.8917062878608704, 2)), ('owe', (0.6683093309402466, 0)), ('half', (0.7260684967041016, 1)), ('enter', (0.8655893802642822, 1)), ('still', (0.7735005617141724, 0)), ('if', (0.8948825001716614, 3)), ('certain', (0.7730410099029541, 0)), ('pre', (0.6991314888000488, 0)), ('attention', (0.8039854168891907, 1)), ('act', (0.7374258041381836, 1)), ('silver', (0.6861170530319214, 0)), ('but', (0.8771874308586121, 3)), ('twist', (0.6239560842514038, 0)), ('commander', (0.6688764691352844, 0)), ('find', (0.8796653151512146, 2)), ('war', (0.875282347202301, 1)), ('authority', (0.7620400190353394, 0)), ('any', (0.9175334572792053, 4)), ('thy', (0.8875627517700195, 0)), ('as', (0.9520321488380432, 13)), ('distress', (0.6228633522987366, 0)), ('tree', (0.8035087585449219, 0)), ('into', (0.8285669684410095, 2)), ('pleasing', (0.7563287615776062, 0)), ('clear', (0.7318582534790039, 0)), ('opinion', (0.7510185837745667, 0)), ('high', (0.6967354416847229, 0)), ('thee', (0.7858161330223083, 0)), ('else', (0.5666131377220154, 0)), ('upon', (0.9448224306106567, 9)), ('ing', (0.5836249589920044, 0)), ('lawrence', (0.6363035440444946, 0)), ('well', (0.8432480692863464, 3)), ('like', (0.8993587493896484, 2)), ('new', (0.8596218228340149, 1)), ('draw', (0.6901559233665466, 1)), ('peculiar', (0.7581357955932617, 0)), ('only', (0.775161623954773, 0)), ('earth', (0.8476057052612305, 0)), ('pull', (0.6033532619476318, 0)), ('few', (0.8520171046257019, 0)), ('after', (0.8582369685173035, 1)), ('you', (0.9417483806610107, 5)), ('who', (0.8982601761817932, 2)), ('might', (0.8066278696060181, 1)), ('pride', (0.5730169415473938, 0)), ('make', (0.9261019229888916, 4)), ('national', (0.7170056104660034, 0)), ('tear', (0.45928454399108887, 0)), ('brave', (0.6885791420936584, 0)), ('d', (0.7630836963653564, 0)), ('this', (0.8708614110946655, 1)), ('speed', (0.7157610058784485, 0)), ('very', (0.7538501024246216, 3)), ('weakness', (0.7556013464927673, 0)), ('somewhat', (0.7947219610214233, 0)), ('than', (0.802703857421875, 0)), ('he', (0.9555801153182983, 22)), ('prof', (0.6859908699989319, 0)), ('happen', (0.7174542546272278, 0)), ('how', (0.7669695019721985, 0)), ('for', (0.9403328895568848, 7)), ('hide', (0.6385940909385681, 0)), ('whether', (0.561984658241272, 0)), ('side', (0.6430900692939758, 0)), ('moral', (0.828369677066803, 0)), ('about', (0.6910328269004822, 0)), ('raise', (0.7783621549606323, 0)), ('wife', (0.8020510673522949, 1)), ('morning', (0.766266942024231, 0)), ('bread', (0.6575374603271484, 0)), ('law', (0.7685347199440002, 1)), ('way', (0.7074769735336304, 0)), ('or', (0.9377283453941345, 4)), ('dawn', (0.828558623790741, 0)), ('honest', (0.8426950573921204, 0)), ('one', (0.9177621006965637, 6)), ('stock', (0.6146135926246643, 0)), ('physical', (0.7852950096130371, 0)), ('place', (0.8269033432006836, 3)), ('kind', (0.691064715385437, 0)), ('honor', (0.8006463646888733, 0)), ('without', (0.6742610335350037, 0)), ('ill', (0.5808844566345215, 0)), ('produce', (0.8034100532531738, 0)), ('different', (0.7065257430076599, 0)), ('nearly', (0.580186665058136, 0)), ('child', (0.657366931438446, 0)), ('another', (0.7301433086395264, 0)), ('study', (0.6880667209625244, 0)), ('arm', (0.7093378901481628, 0)), ('seem', (0.8254148960113525, 0)), ('two', (0.6771160364151001, 0)), ('respect', (0.7407989501953125, 0)), ('no', (0.8559842705726624, 0)), ('to', (0.9846189618110657, 37)), ('in', (0.9673596620559692, 21)), ('out', (0.7658720016479492, 1)), ('we', (0.9652644395828247, 5)), ('er', (0.7962631583213806, 1)), ('proper', (0.7359647750854492, 0)), ('liquid', (0.6954802870750427, 0)), ('would', (0.944453775882721, 4)), ('silence', (0.6535305976867676, 0)), ('constituency', (0.7987701296806335, 0)), ('di', (0.4301118850708008, 0)), ('ni', (0.7725841999053955, 0)), ('such', (0.8212253451347351, 0)), ('heart', (0.8732096552848816, 2)), ('case', (0.7837333083152771, 1)), ('her', (0.938619077205658, 8)), ('wrong', (0.6248618960380554, 0)), ('each', (0.7384166121482849, 0)), ('sometimes', (0.809413492679596, 0)), ('first', (0.8697634935379028, 4)), ('whom', (0.8622263669967651, 1)), ('root', (0.6818040609359741, 0)), ('youth', (0.6966995000839233, 1)), ('your', (0.8469321727752686, 1)), ('far', (0.7536030411720276, 0)), ('depend', (0.7901419401168823, 0)), ('public', (0.7731614112854004, 1)), ('up', (0.8716191649436951, 3)), ('variety', (0.6704767346382141, 0)), ('certainly', (0.7611980438232422, 0)), ('inc', (0.6222911477088928, 0)), ('that', (0.9796634912490845, 20)), ('feel', (0.759433925151825, 0)), ('him', (0.877152144908905, 1)), ('strange', (0.6879401206970215, 0)), ('mr', (0.8947137594223022, 2)), ('do', (0.9204728603363037, 7)), ('a', (0.976954996585846, 24)), ('not', (0.9579805731773376, 8)), ('bow', (0.5761998295783997, 0)), ('forever', (0.6498082876205444, 0)), ('dare', (0.6872243881225586, 0)), ('son', (0.7545375227928162, 0)), ('my', (0.9690507650375366, 4)), ('which', (0.9716566205024719, 11)), ('with', (0.9606505632400513, 10)), ('increased', (0.7791001200675964, 0)), ('man', (0.9185206294059753, 4)), ('look', (0.8622543811798096, 1)), ('better', (0.7870433330535889, 0)), ('shoulder', (0.7638360261917114, 0)), ('end', (0.6157037019729614, 1)), ('exclusive', (0.729479968547821, 0)), ('believe', (0.6648834347724915, 0)), ('by', (0.892086923122406, 2)), ('mind', (0.8721837401390076, 2)), ('form', (0.7135948538780212, 0)), ('wait', (0.8145352602005005, 0)), ('forth', (0.7214561700820923, 0)), ('eye', (0.8283993005752563, 1)), ('when', (0.846020519733429, 1)), ('and', (0.9909907579421997, 57)), ('o', (0.8481243252754211, 2)), ('england', (0.9135764837265015, 1)), ('where', (0.8858173489570618, 1)), ('fear', (0.7812493443489075, 0)), ('acquire', (0.7008326053619385, 0)), ('wa', (0.49525731801986694, 0)), ('go', (0.9212768077850342, 3)), ('hand', (0.879315197467804, 3)), ('year', (0.6819812059402466, 0)), ('rise', (0.6920947432518005, 0)), ('wash', (0.6651174426078796, 0)), ('enemy', (0.8307927846908569, 0)), ('right', (0.8009834289550781, 1)), ('be', (0.9922289252281189, 45)), ('deliver', (0.7247655987739563, 0)), ('they', (0.9535207748413086, 4)), ('considerable', (0.6238724589347839, 0)), ('position', (0.7899503707885742, 0)), ('z', (0.7281261682510376, 0)), ('its', (0.893045961856842, 3)), ('fall', (0.8434156775474548, 1)), ('white', (0.47334954142570496, 0)), ('nation', (0.8617041110992432, 1)), ('planet', (0.7383226156234741, 0)), ('lin', (0.445351779460907, 0)), ('suspect', (0.745311975479126, 0)), ('slight', (0.5507542490959167, 0)), ('whole', (0.8022145628929138, 1)), ('through', (0.7735134959220886, 0)), ('notice', (0.618877112865448, 0)), ('though', (0.8040724992752075, 1)), ('choose', (0.671962320804596, 0))])"
            ]
          },
          "metadata": {},
          "execution_count": 50
        }
      ]
    },
    {
      "cell_type": "code",
      "source": [
        "difference_dict_sorted_by_score=sorted(difference_dict.items(), key=lambda x: x[1][0], reverse=True)\n",
        "difference_dict_sorted_by_freq=sorted(difference_dict.items(), key=lambda x: x[1][1], reverse=True)"
      ],
      "metadata": {
        "id": "XxiscVt1tVBX"
      },
      "execution_count": null,
      "outputs": []
    },
    {
      "cell_type": "code",
      "source": [
        "difference_dict_sorted_by_score[:10]"
      ],
      "metadata": {
        "id": "azLCf8U6yYGo",
        "colab": {
          "base_uri": "https://localhost:8080/"
        },
        "outputId": "4d18cf88-a22f-4b91-d9cb-59e9b69d5274"
      },
      "execution_count": null,
      "outputs": [
        {
          "output_type": "execute_result",
          "data": {
            "text/plain": [
              "[('or', (0.9845697283744812, 274)),\n",
              " ('see', (0.9826090931892395, 152)),\n",
              " ('would', (0.982541561126709, 196)),\n",
              " ('them', (0.9818414449691772, 151)),\n",
              " ('nu', (0.9811897873878479, 85)),\n",
              " ('they', (0.9806659817695618, 303)),\n",
              " ('her', (0.9805899262428284, 382)),\n",
              " ('if', (0.980434775352478, 223)),\n",
              " ('when', (0.9803611636161804, 206)),\n",
              " ('two', (0.9795575737953186, 78))]"
            ]
          },
          "metadata": {},
          "execution_count": 93
        }
      ]
    },
    {
      "cell_type": "markdown",
      "source": [
        "##Choosing fixed points"
      ],
      "metadata": {
        "id": "iqGRbCOsYg1i"
      }
    },
    {
      "cell_type": "code",
      "source": [
        "#Choosing words with high frequency as \n",
        "portion_of_top_freq = 0.1\n",
        "top_k_freq= int(len(difference_dict_sorted_by_freq) * portion_of_top_freq)\n",
        "\n",
        "top_k_freq_words = [word[0] for word in difference_dict_sorted_by_freq[:top_k_freq]]"
      ],
      "metadata": {
        "id": "XdouHf1OXDe1"
      },
      "execution_count": null,
      "outputs": []
    },
    {
      "cell_type": "code",
      "source": [
        "top_k_freq_words[:20]"
      ],
      "metadata": {
        "colab": {
          "base_uri": "https://localhost:8080/"
        },
        "id": "rGrGxkSKd629",
        "outputId": "57d9dbb5-5acd-4554-d4ff-eaf966a5f6d6"
      },
      "execution_count": null,
      "outputs": [
        {
          "output_type": "execute_result",
          "data": {
            "text/plain": [
              "['the',\n",
              " 'be',\n",
              " 'and',\n",
              " 'of',\n",
              " 'to',\n",
              " 'a',\n",
              " 'in',\n",
              " 'have',\n",
              " 'that',\n",
              " 'i',\n",
              " 'it',\n",
              " 'he',\n",
              " 'for',\n",
              " 'his',\n",
              " 'with',\n",
              " 'as',\n",
              " 'at',\n",
              " 'you',\n",
              " 'but',\n",
              " 'her']"
            ]
          },
          "metadata": {},
          "execution_count": 14
        }
      ]
    },
    {
      "cell_type": "code",
      "source": [
        "top_k_freq"
      ],
      "metadata": {
        "colab": {
          "base_uri": "https://localhost:8080/"
        },
        "id": "ScTCpoKK1YF1",
        "outputId": "58178ec2-95b1-4edb-be18-31bc457c9f65"
      },
      "execution_count": null,
      "outputs": [
        {
          "output_type": "execute_result",
          "data": {
            "text/plain": [
              "470"
            ]
          },
          "metadata": {},
          "execution_count": 15
        }
      ]
    },
    {
      "cell_type": "code",
      "source": [
        "#Choosing fixed points with low semantic change\n",
        "number_of_fixed_words = 65\n",
        "top_scoring_words = [word[0] for word in difference_dict_sorted_by_score[:min(number_of_fixed_words*30,len(difference_dict_sorted_by_score))]][:number_of_fixed_words]"
      ],
      "metadata": {
        "id": "sdpQEBf_ezkJ"
      },
      "execution_count": null,
      "outputs": []
    },
    {
      "cell_type": "code",
      "source": [
        "fixed_words = top_scoring_words"
      ],
      "metadata": {
        "id": "aBLkjFjxd8pu"
      },
      "execution_count": null,
      "outputs": []
    },
    {
      "cell_type": "code",
      "source": [
        "fixed_words_c1 = {}\n",
        "fixed_words_c2 = {}\n",
        "for word in fixed_words:\n",
        "  fixed_words_c1[word] = test_dic_1[word][0]\n",
        "  fixed_words_c2[word] = test_dic_2[word][0]"
      ],
      "metadata": {
        "id": "OVHbN3Oij8CU"
      },
      "execution_count": null,
      "outputs": []
    },
    {
      "cell_type": "markdown",
      "source": [
        "#Comparing target words with fixed points"
      ],
      "metadata": {
        "id": "XqDe-xzCg9FD"
      }
    },
    {
      "cell_type": "code",
      "source": [
        "target_truth_task1={}\n",
        "target_truth_task2={}\n",
        "with open(\"/content/semantic_change_porject/english (2).txt\") as fileobject:\n",
        "    for i,line in enumerate(fileobject):\n",
        "      target_truth_task2[line.split()[0].split('_')[0]] =  line.split()[1]\n",
        "\n",
        "\n",
        "\n",
        "with open(\"/content/semantic_change_porject/english.txt\") as fileobject:\n",
        "    for i,line in enumerate(fileobject):\n",
        "      target_truth_task1[line.split()[0].split('_')[0]] =  line.split()[1]"
      ],
      "metadata": {
        "id": "hr3K8gSJ1j-N"
      },
      "execution_count": null,
      "outputs": []
    },
    {
      "cell_type": "code",
      "source": [
        "target_words= target_truth_task2.keys()\n",
        "target_words_present = list(set(set(same_words) & set(target_words)))\n",
        "target_words_not_present = [word for word in target_words if word not in target_words_present]\n"
      ],
      "metadata": {
        "id": "pFPAYo2e3m1z"
      },
      "execution_count": null,
      "outputs": []
    },
    {
      "cell_type": "code",
      "source": [
        "#Getting target words\n",
        "#For now\n",
        "target_words = target_words_present\n",
        "target_words_c1_rep = {}\n",
        "target_words_c2_rep = {}\n",
        "for word in target_words:\n",
        "  target_words_c1_rep[word] = test_dic_1[word][0]\n",
        "  target_words_c2_rep[word] = test_dic_2[word][0]\n",
        "target_words_diff = {}\n",
        "for target_word in target_words:\n",
        "  word_rep_c1 = []\n",
        "  word_rep_c2 = []\n",
        "  for fixed_word in fixed_words:\n",
        "    dist_word_to_fix_c1 = 1-float(cos(target_words_c1_rep[target_word],fixed_words_c1[fixed_word]).numpy().astype(np.float32))\n",
        "    dist_word_to_fix_c2 = 1-float(cos(target_words_c2_rep[target_word],fixed_words_c2[fixed_word]).numpy().astype(np.float32))\n",
        "    word_rep_c1.append(dist_word_to_fix_c1)\n",
        "    word_rep_c2.append(dist_word_to_fix_c2)\n",
        "\n",
        "  target_words_diff[target_word] = {\n",
        "      'c1': word_rep_c1,\n",
        "      'c2': word_rep_c2\n",
        "  }\n",
        "#out put is target_words_diff"
      ],
      "metadata": {
        "id": "lFG45HZ1g3sm"
      },
      "execution_count": null,
      "outputs": []
    },
    {
      "cell_type": "code",
      "source": [
        "#trying cosine \n",
        "from sklearn.metrics.pairwise import cosine_similarity\n",
        "target_words_diff_score_cosine = {}\n",
        "for word in target_words_diff:\n",
        "  target_words_diff_score_cosine[word] =1- cosine_similarity([target_words_diff[word]['c1']], [target_words_diff[word]['c2']])[0][0]\n",
        "\n"
      ],
      "metadata": {
        "id": "ua2QqbXTqS8p"
      },
      "execution_count": null,
      "outputs": []
    },
    {
      "cell_type": "code",
      "source": [
        "result_cosine=sorted(target_words_diff_score_cosine.items(), key=lambda x: x[1], reverse=True)"
      ],
      "metadata": {
        "id": "lQZc2J1Kzx1I"
      },
      "execution_count": null,
      "outputs": []
    },
    {
      "cell_type": "code",
      "source": [
        "prediction = {}\n",
        "task1_gt = []\n",
        "task2_gt = []\n",
        "prediction_task_2 = []\n",
        "for word in result_cosine:\n",
        "  task1_gt.append(int(target_truth_task1[word[0]]))\n",
        "  prediction_task_2.append((word[1]))\n",
        "  prediction[word[0]] = (word[1],target_truth_task1[word[0]],target_truth_task2[word[0]])\n",
        "  task2_gt.append(target_truth_task2[word[0]])\n",
        "  print('word ',word[0], ' -result: ',word[1],' binary truth of semantic change: ',target_truth_task1[word[0]])\n",
        "results_cosine_task2 = [prediction_task_2,task2_gt,task1_gt]"
      ],
      "metadata": {
        "colab": {
          "base_uri": "https://localhost:8080/"
        },
        "id": "GIlyFXzz8KQm",
        "outputId": "cc451475-6985-4fbb-cf45-d31779a8ae2f"
      },
      "execution_count": null,
      "outputs": [
        {
          "output_type": "stream",
          "name": "stdout",
          "text": [
            "word  bit  -result:  0.0014005141835496948  binary truth of semantic change:  1\n",
            "word  stab  -result:  0.001340821343941423  binary truth of semantic change:  1\n",
            "word  thump  -result:  0.0011790924765886501  binary truth of semantic change:  1\n",
            "word  multitude  -result:  0.0011614570654803202  binary truth of semantic change:  0\n",
            "word  plane  -result:  0.001002191250322415  binary truth of semantic change:  1\n",
            "word  quilt  -result:  0.0009999325757332755  binary truth of semantic change:  0\n",
            "word  record  -result:  0.0008756957945711408  binary truth of semantic change:  1\n",
            "word  tip  -result:  0.0007779623301791272  binary truth of semantic change:  1\n",
            "word  stroke  -result:  0.0007708830015382695  binary truth of semantic change:  0\n",
            "word  player  -result:  0.0006429535206379233  binary truth of semantic change:  1\n",
            "word  savage  -result:  0.0006386506289202121  binary truth of semantic change:  0\n",
            "word  bag  -result:  0.0006356232933962813  binary truth of semantic change:  0\n",
            "word  gas  -result:  0.0006198537350170508  binary truth of semantic change:  0\n",
            "word  prop  -result:  0.0005479012768214719  binary truth of semantic change:  1\n",
            "word  circle  -result:  0.0005405150154823568  binary truth of semantic change:  1\n",
            "word  twist  -result:  0.0005297232929974971  binary truth of semantic change:  0\n",
            "word  rag  -result:  0.0005285817811016003  binary truth of semantic change:  1\n",
            "word  fiction  -result:  0.0004989377906956527  binary truth of semantic change:  0\n",
            "word  pin  -result:  0.0004953887365953813  binary truth of semantic change:  0\n",
            "word  ounce  -result:  0.0004922406894714015  binary truth of semantic change:  0\n",
            "word  risk  -result:  0.00048595984457222574  binary truth of semantic change:  0\n",
            "word  relationship  -result:  0.0004343605995912325  binary truth of semantic change:  0\n",
            "word  attack  -result:  0.00041906636298227884  binary truth of semantic change:  1\n",
            "word  part  -result:  0.00035978669681580033  binary truth of semantic change:  0\n",
            "word  ball  -result:  0.00034500227220146673  binary truth of semantic change:  0\n",
            "word  edge  -result:  0.0003277821176359552  binary truth of semantic change:  1\n",
            "word  donkey  -result:  0.00031542613365564964  binary truth of semantic change:  0\n",
            "word  word  -result:  0.00031084197758479704  binary truth of semantic change:  0\n",
            "word  head  -result:  0.00023467914446717586  binary truth of semantic change:  1\n",
            "word  land  -result:  0.00020207941652317096  binary truth of semantic change:  1\n",
            "word  face  -result:  0.00018930090741442474  binary truth of semantic change:  0\n",
            "word  tree  -result:  0.00017057382435892166  binary truth of semantic change:  0\n"
          ]
        }
      ]
    },
    {
      "cell_type": "code",
      "source": [
        "#Trying averaging\n",
        "target_words_diff_score_avg = {}\n",
        "\n",
        "for word in target_words_diff:\n",
        "  target_words_diff_score_avg[word] =abs(sum([target_words_diff[word]['c1']][0]) - sum([target_words_diff[word]['c2']][0]))"
      ],
      "metadata": {
        "id": "-thpd99H1_iu"
      },
      "execution_count": null,
      "outputs": []
    },
    {
      "cell_type": "code",
      "source": [
        "result_avg=sorted(target_words_diff_score_avg.items(), key=lambda x: x[1], reverse=True)"
      ],
      "metadata": {
        "id": "nFLe0x9R50f6"
      },
      "execution_count": null,
      "outputs": []
    },
    {
      "cell_type": "code",
      "source": [
        "predection = {}\n",
        "task1_gt = []\n",
        "task2_gt = []\n",
        "prediction_task_2 = []\n",
        "for word in result_avg:\n",
        "  task1_gt.append(target_truth_task1[word[0]])\n",
        "  prediction_task_2.append(word[1])\n",
        "  task2_gt.append(target_truth_task2[word[0]])\n",
        "results_avg_task2 = [prediction_task_2,task2_gt,task1_gt]"
      ],
      "metadata": {
        "id": "41Yx_PLzlgRi"
      },
      "execution_count": null,
      "outputs": []
    },
    {
      "cell_type": "code",
      "source": [
        "a= 0\n",
        "r = {word[0]:results_cosine_task2[2][i] for i ,word in enumerate(result_cosine)}\n",
        "r\n"
      ],
      "metadata": {
        "colab": {
          "base_uri": "https://localhost:8080/"
        },
        "id": "kKF-gobP8xbr",
        "outputId": "06915787-56d0-4d54-f706-7c774e97d65c"
      },
      "execution_count": null,
      "outputs": [
        {
          "output_type": "execute_result",
          "data": {
            "text/plain": [
              "{'attack': 1,\n",
              " 'bag': 0,\n",
              " 'ball': 0,\n",
              " 'bit': 1,\n",
              " 'circle': 1,\n",
              " 'donkey': 0,\n",
              " 'edge': 1,\n",
              " 'face': 0,\n",
              " 'fiction': 0,\n",
              " 'gas': 0,\n",
              " 'head': 1,\n",
              " 'land': 1,\n",
              " 'multitude': 0,\n",
              " 'ounce': 0,\n",
              " 'part': 0,\n",
              " 'pin': 0,\n",
              " 'plane': 1,\n",
              " 'player': 1,\n",
              " 'prop': 1,\n",
              " 'quilt': 0,\n",
              " 'rag': 1,\n",
              " 'record': 1,\n",
              " 'relationship': 0,\n",
              " 'risk': 0,\n",
              " 'savage': 0,\n",
              " 'stab': 1,\n",
              " 'stroke': 0,\n",
              " 'thump': 1,\n",
              " 'tip': 1,\n",
              " 'tree': 0,\n",
              " 'twist': 0,\n",
              " 'word': 0}"
            ]
          },
          "metadata": {},
          "execution_count": 32
        }
      ]
    },
    {
      "cell_type": "markdown",
      "source": [
        "#Comparing non fixed point based with fixed point based"
      ],
      "metadata": {
        "id": "AMXD2zdlPBOC"
      }
    },
    {
      "cell_type": "code",
      "source": [
        "target_words = target_words_present\n",
        "target_words_c1_rep = {}\n",
        "target_words_c2_rep = {}\n",
        "for word in target_words:\n",
        "  target_words_c1_rep[word] = test_dic_1[word][0]\n",
        "  target_words_c2_rep[word] = test_dic_2[word][0]\n",
        "target_words_diff_normal = {}\n",
        "for target_word in result_cosine:\n",
        "  dist_word_to_from_other_c = 1-float(cos(target_words_c1_rep[target_word[0]],target_words_c2_rep[target_word[0]]).numpy().astype(np.float32))\n",
        "  target_words_diff_normal[target_word[0]]=dist_word_to_from_other_c\n"
      ],
      "metadata": {
        "id": "-32xHkGOO_aj"
      },
      "execution_count": null,
      "outputs": []
    },
    {
      "cell_type": "code",
      "source": [
        "arget_words_diff_normal_list = [target_words_diff_normal[word] for word in target_words_diff_normal]\n",
        "print('results for avg no fix points:',stats.spearmanr(arget_words_diff_normal_list, results_cosine_task2[1])[0])"
      ],
      "metadata": {
        "colab": {
          "base_uri": "https://localhost:8080/"
        },
        "id": "o8YPG4tAQerS",
        "outputId": "dcbf1820-6459-406f-c5e1-94990ed68a72"
      },
      "execution_count": null,
      "outputs": [
        {
          "output_type": "stream",
          "name": "stdout",
          "text": [
            "results for avg no fix points: 0.11511318900880745\n"
          ]
        }
      ]
    },
    {
      "cell_type": "markdown",
      "source": [
        "#Calculating for task 1 and 2"
      ],
      "metadata": {
        "id": "IpftEOQP6-tg"
      }
    },
    {
      "cell_type": "code",
      "source": [
        "#For Task 1 I calculate the average and look for those above average and by looking and the plot of threshold"
      ],
      "metadata": {
        "id": "gN64p4zG69_9"
      },
      "execution_count": null,
      "outputs": []
    },
    {
      "cell_type": "code",
      "source": [
        "results_cosine_task2[1]"
      ],
      "metadata": {
        "colab": {
          "base_uri": "https://localhost:8080/"
        },
        "id": "S2VMRYl163lX",
        "outputId": "dc4835d7-6724-43ee-f769-3a22496a677c"
      },
      "execution_count": null,
      "outputs": [
        {
          "output_type": "execute_result",
          "data": {
            "text/plain": [
              "['0.3065766263',\n",
              " '0.4005896829',\n",
              " '0.1429915711',\n",
              " '0.1003636619',\n",
              " '0.8823475834',\n",
              " '0.1231453661',\n",
              " '0.4273504707',\n",
              " '0.6788987615',\n",
              " '0.1762311532',\n",
              " '0.2736674651',\n",
              " '0.0968689424',\n",
              " '0.1003636619',\n",
              " '0.1595695865',\n",
              " '0.624759971',\n",
              " '0.1710871199',\n",
              " '0.3984926634',\n",
              " '0.2765152931',\n",
              " '0.0207232682',\n",
              " '0.2072118595',\n",
              " '0.2848990681',\n",
              " '0',\n",
              " '0.0562177896',\n",
              " '0.1439699927',\n",
              " '0.161270809',\n",
              " '0.4093665525',\n",
              " '0.2609655868',\n",
              " '0.1601038896',\n",
              " '0.1793071623',\n",
              " '0.2952561247',\n",
              " '0.2234476353',\n",
              " '0.137791275',\n",
              " '0.070838721']"
            ]
          },
          "metadata": {},
          "execution_count": 129
        }
      ]
    },
    {
      "cell_type": "code",
      "source": [
        "from scipy import stats\n",
        "print('results for best avg:',stats.spearmanr(results_avg_task2[0], results_avg_task2[1])[0])\n",
        "print('results for best cosine:',stats.spearmanr(results_cosine_task2[0], results_cosine_task2[1])[0])"
      ],
      "metadata": {
        "colab": {
          "base_uri": "https://localhost:8080/"
        },
        "id": "BH01MrVymSRQ",
        "outputId": "b7c24c91-cc0e-4057-c4f4-89228a6f55ba"
      },
      "execution_count": null,
      "outputs": [
        {
          "output_type": "stream",
          "name": "stdout",
          "text": [
            "results for best avg: -0.0945834482938609\n",
            "results for best cosine: 0.22216112273674302\n"
          ]
        }
      ]
    },
    {
      "cell_type": "code",
      "source": [
        "from sklearn.metrics import accuracy_score\n",
        "\n",
        "# accuracy_score(y_true, y_pred)\n",
        "for i in range(len(results_cosine_task2[2])):\n",
        "  pred = [0 for j in range(len(results_cosine_task2[2]))]\n",
        "  \n",
        "  for j in range(i):\n",
        "    pred[j] = 1\n",
        "  \n",
        "  print(i,'acc ',accuracy_score(results_cosine_task2[2], pred))"
      ],
      "metadata": {
        "colab": {
          "base_uri": "https://localhost:8080/"
        },
        "id": "vdZRwa0kpCVr",
        "outputId": "e1449446-13a7-4cbe-f0f7-88f868afeb71"
      },
      "execution_count": null,
      "outputs": [
        {
          "output_type": "stream",
          "name": "stdout",
          "text": [
            "0 acc  0.5625\n",
            "1 acc  0.59375\n",
            "2 acc  0.625\n",
            "3 acc  0.65625\n",
            "4 acc  0.625\n",
            "5 acc  0.65625\n",
            "6 acc  0.625\n",
            "7 acc  0.65625\n",
            "8 acc  0.6875\n",
            "9 acc  0.65625\n",
            "10 acc  0.6875\n",
            "11 acc  0.65625\n",
            "12 acc  0.625\n",
            "13 acc  0.59375\n",
            "14 acc  0.625\n",
            "15 acc  0.65625\n",
            "16 acc  0.625\n",
            "17 acc  0.65625\n",
            "18 acc  0.625\n",
            "19 acc  0.59375\n",
            "20 acc  0.5625\n",
            "21 acc  0.53125\n",
            "22 acc  0.5\n",
            "23 acc  0.53125\n",
            "24 acc  0.5\n",
            "25 acc  0.46875\n",
            "26 acc  0.5\n",
            "27 acc  0.46875\n",
            "28 acc  0.4375\n",
            "29 acc  0.46875\n",
            "30 acc  0.5\n",
            "31 acc  0.46875\n"
          ]
        }
      ]
    },
    {
      "cell_type": "code",
      "source": [
        "import matplotlib.pyplot as plt\n",
        "import numpy as np\n",
        "#final method of score aggregation\n",
        "final_scoring = [word[1] for word in result_avg]\n",
        "y = np.array(final_scoring)\n",
        "x = np.array(range(0,len(y)))\n",
        "\n",
        "plt.scatter(x, y)\n",
        "plt.show()"
      ],
      "metadata": {
        "colab": {
          "base_uri": "https://localhost:8080/",
          "height": 265
        },
        "id": "WReIL2eQ7px6",
        "outputId": "4c2936d0-1b15-41dd-df37-fcf0351ff468"
      },
      "execution_count": null,
      "outputs": [
        {
          "output_type": "display_data",
          "data": {
            "text/plain": [
              "<Figure size 432x288 with 1 Axes>"
            ],
            "image/png": "[encoded data removed]"
          },
          "metadata": {
            "needs_background": "light"
          }
        }
      ]
    },
    {
      "cell_type": "code",
      "source": [
        "import matplotlib.pyplot as plt\n",
        "import numpy as np\n",
        "#final method of score aggregation\n",
        "final_scoring = [word[1] for word in result_cosine]\n",
        "\n",
        "y = np.array(final_scoring)\n",
        "x = np.array(range(0,len(y)))\n",
        "\n",
        "plt.scatter(x, y)\n",
        "plt.show()"
      ],
      "metadata": {
        "colab": {
          "base_uri": "https://localhost:8080/",
          "height": 265
        },
        "id": "FJBgUe7J815j",
        "outputId": "d2289888-7dc7-4bfd-d13d-709578160f32"
      },
      "execution_count": null,
      "outputs": [
        {
          "output_type": "display_data",
          "data": {
            "text/plain": [
              "<Figure size 432x288 with 1 Axes>"
            ],
            "image/png": "[encoded data removed]"
          },
          "metadata": {
            "needs_background": "light"
          }
        }
      ]
    },
    {
      "cell_type": "markdown",
      "source": [
        "#Number of fix points and performance"
      ],
      "metadata": {
        "id": "5H7eyWL0dovZ"
      }
    },
    {
      "cell_type": "code",
      "source": [
        "def get_num_fix_point(number_of_fixed_words,target_words=target_truth_task2.keys()):\n",
        "  number_of_fixed_words = number_of_fixed_words\n",
        "  target_words= target_truth_task2.keys()\n",
        "\n",
        "  top_scoring_words = [word[0] for word in difference_dict_sorted_by_score[:min(number_of_fixed_words*30,len(difference_dict_sorted_by_score))]][:number_of_fixed_words]\n",
        "  fixed_words = top_scoring_words\n",
        "  fixed_words_c1 = {}\n",
        "  fixed_words_c2 = {}\n",
        "  for word in fixed_words:\n",
        "    fixed_words_c1[word] = test_dic_1[word][0]\n",
        "    fixed_words_c2[word] = test_dic_2[word][0]\n",
        "  target_words = target_words_present\n",
        "  target_words_c1_rep = {}\n",
        "  target_words_c2_rep = {}\n",
        "  for word in target_words:\n",
        "    target_words_c1_rep[word] = test_dic_1[word][0]\n",
        "    target_words_c2_rep[word] = test_dic_2[word][0]\n",
        "  target_words_diff = {}\n",
        "  for target_word in target_words:\n",
        "    word_rep_c1 = []\n",
        "    word_rep_c2 = []\n",
        "    for fixed_word in fixed_words:\n",
        "      dist_word_to_fix_c1 = 1-float(cos(target_words_c1_rep[target_word],fixed_words_c1[fixed_word]).numpy().astype(np.float32))\n",
        "      dist_word_to_fix_c2 = 1-float(cos(target_words_c2_rep[target_word],fixed_words_c2[fixed_word]).numpy().astype(np.float32))\n",
        "      word_rep_c1.append(dist_word_to_fix_c1)\n",
        "      word_rep_c2.append(dist_word_to_fix_c2)\n",
        "\n",
        "    target_words_diff[target_word] = {\n",
        "        'c1': word_rep_c1,\n",
        "        'c2': word_rep_c2\n",
        "    }\n",
        "  from sklearn.metrics.pairwise import cosine_similarity\n",
        "  target_words_diff_score_cosine = {}\n",
        "  for word in target_words_diff:\n",
        "    target_words_diff_score_cosine[word] =1- cosine_similarity([target_words_diff[word]['c1']], [target_words_diff[word]['c2']])[0][0]\n",
        "  result_cosine=sorted(target_words_diff_score_cosine.items(), key=lambda x: x[1], reverse=True)\n",
        "  predection = {}\n",
        "  task1_gt = []\n",
        "  task2_gt = []\n",
        "  prediction_task_2 = []\n",
        "  for word in result_cosine:\n",
        "    task1_gt.append(int(target_truth_task1[word[0]]))\n",
        "    prediction_task_2.append((word[1]))\n",
        "\n",
        "    task2_gt.append(target_truth_task2[word[0]])\n",
        "    # print('word ',word[0], ' -result: ',word[1],' binary truth of semantic change: ',target_truth_task1[word[0]])\n",
        "  results_cosine_task2 = [prediction_task_2,task2_gt,task1_gt]\n",
        "\n",
        "  return stats.spearmanr(results_cosine_task2[0], results_cosine_task2[1])[0]"
      ],
      "metadata": {
        "id": "3xsh9Z0a96I-"
      },
      "execution_count": null,
      "outputs": []
    },
    {
      "cell_type": "code",
      "source": [
        "fix_words_num = [get_num_fix_point(i) for i in range(1,400)]"
      ],
      "metadata": {
        "id": "W2awUrS2f2W7"
      },
      "execution_count": null,
      "outputs": []
    },
    {
      "cell_type": "code",
      "source": [
        "\n",
        "\n",
        "y = np.array(fix_words_num)\n",
        "x = np.array(range(0,len(y)))\n",
        "\n",
        "plt.scatter(x, y)\n",
        "plt.show()"
      ],
      "metadata": {
        "colab": {
          "base_uri": "https://localhost:8080/",
          "height": 265
        },
        "id": "Y-A_AaDjf5ou",
        "outputId": "8049050d-13ac-44c1-92db-e0e12a386fa1"
      },
      "execution_count": null,
      "outputs": [
        {
          "output_type": "display_data",
          "data": {
            "text/plain": [
              "<Figure size 432x288 with 1 Axes>"
            ],
            "image/png": "[encoded data removed]"
          },
          "metadata": {
            "needs_background": "light"
          }
        }
      ]
    },
    {
      "cell_type": "markdown",
      "source": [
        "#Comparing with frequency baseline"
      ],
      "metadata": {
        "id": "NSBxwGmKOOcz"
      }
    },
    {
      "cell_type": "code",
      "source": [
        "freqs = {'attack': [454, 833], 'bag': [214, 899], 'ball': [440, 878], 'bit': [296, 622],\n",
        "          'circle': [131, 245],  'donkey': [118, 148],\n",
        "         'edge': [457, 1072], 'face': [3394, 3932], 'fiction': [202, 326], 'gas': [155, 680],\n",
        "          'head': [3599, 4127], 'land': [2321, 1624], \n",
        "         'lass': [111, 106], 'multitude': [475, 131], 'ounce': [208, 189], 'part': [4410, 3213],\n",
        "         'pin': [114, 217], 'plane': [278, 792], 'player': [132, 939], 'prop': [121, 147],\n",
        "         'quilt': [106, 189], 'rag': [158, 208], 'record': [420, 1188], 'relationship': [130, 841],\n",
        "         'risk': [286, 643], 'savage': [504, 133], 'stab': [92, 117], 'stroke': [110, 227],\n",
        "         'thump': [89, 127], 'tip': [119, 241], 'tree': [2322, 1596], 'twist': [103, 186],\n",
        "         'word': [4387, 3166]}"
      ],
      "metadata": {
        "id": "oTQMutLH4vOo"
      },
      "execution_count": null,
      "outputs": []
    },
    {
      "cell_type": "code",
      "source": [
        "prediction"
      ],
      "metadata": {
        "colab": {
          "base_uri": "https://localhost:8080/"
        },
        "id": "tPUJobyS3jjq",
        "outputId": "710d49fd-62de-426a-b6fc-5e92c0c37378"
      },
      "execution_count": null,
      "outputs": [
        {
          "output_type": "execute_result",
          "data": {
            "text/plain": [
              "{'attack': (0.00041906636298227884, '1', '0.1439699927'),\n",
              " 'bag': (0.0006356232933962813, '0', '0.1003636619'),\n",
              " 'ball': (0.00034500227220146673, '0', '0.4093665525'),\n",
              " 'bit': (0.0014005141835496948, '1', '0.3065766263'),\n",
              " 'circle': (0.0005405150154823568, '1', '0.1710871199'),\n",
              " 'donkey': (0.00031542613365564964, '0', '0.1601038896'),\n",
              " 'edge': (0.0003277821176359552, '1', '0.2609655868'),\n",
              " 'face': (0.00018930090741442474, '0', '0.137791275'),\n",
              " 'fiction': (0.0004989377906956527, '0', '0.0207232682'),\n",
              " 'gas': (0.0006198537350170508, '0', '0.1595695865'),\n",
              " 'head': (0.00023467914446717586, '1', '0.2952561247'),\n",
              " 'land': (0.00020207941652317096, '1', '0.2234476353'),\n",
              " 'multitude': (0.0011614570654803202, '0', '0.1003636619'),\n",
              " 'ounce': (0.0004922406894714015, '0', '0.2848990681'),\n",
              " 'part': (0.00035978669681580033, '0', '0.161270809'),\n",
              " 'pin': (0.0004953887365953813, '0', '0.2072118595'),\n",
              " 'plane': (0.001002191250322415, '1', '0.8823475834'),\n",
              " 'player': (0.0006429535206379233, '1', '0.2736674651'),\n",
              " 'prop': (0.0005479012768214719, '1', '0.624759971'),\n",
              " 'quilt': (0.0009999325757332755, '0', '0.1231453661'),\n",
              " 'rag': (0.0005285817811016003, '1', '0.2765152931'),\n",
              " 'record': (0.0008756957945711408, '1', '0.4273504707'),\n",
              " 'relationship': (0.0004343605995912325, '0', '0.0562177896'),\n",
              " 'risk': (0.00048595984457222574, '0', '0'),\n",
              " 'savage': (0.0006386506289202121, '0', '0.0968689424'),\n",
              " 'stab': (0.001340821343941423, '1', '0.4005896829'),\n",
              " 'stroke': (0.0007708830015382695, '0', '0.1762311532'),\n",
              " 'thump': (0.0011790924765886501, '1', '0.1429915711'),\n",
              " 'tip': (0.0007779623301791272, '1', '0.6788987615'),\n",
              " 'tree': (0.00017057382435892166, '0', '0.070838721'),\n",
              " 'twist': (0.0005297232929974971, '0', '0.3984926634'),\n",
              " 'word': (0.00031084197758479704, '0', '0.1793071623')}"
            ]
          },
          "metadata": {},
          "execution_count": 80
        }
      ]
    },
    {
      "cell_type": "code",
      "source": [
        "freq_list = []\n",
        "first_c_freq = []\n",
        "prediction_list = []\n",
        "gt_task2 = []\n",
        "for word in prediction:\n",
        "\n",
        "  freq_list.append(freqs[word])\n",
        "  first_c_freq.append(min(freqs[word][0],freqs[word][1]))\n",
        "  prediction_list.append(prediction[word][0])\n",
        "  gt_task2.append(prediction[word][2])\n",
        "  prediction[word] = (*prediction[word],freqs[word])"
      ],
      "metadata": {
        "id": "f-GeoZr53ySi"
      },
      "execution_count": null,
      "outputs": []
    },
    {
      "cell_type": "code",
      "source": [
        "# Word: predicted LSC, ground truth binary LSC, ground truth LSC, Frequencies\n",
        "prediction"
      ],
      "metadata": {
        "colab": {
          "base_uri": "https://localhost:8080/"
        },
        "id": "MU0sU0x88VqI",
        "outputId": "c880699d-ffc9-4de8-f575-c1936376aabf"
      },
      "execution_count": null,
      "outputs": [
        {
          "output_type": "execute_result",
          "data": {
            "text/plain": [
              "{'attack': (0.00041906636298227884, '1', '0.1439699927', [454, 833]),\n",
              " 'bag': (0.0006356232933962813, '0', '0.1003636619', [214, 899]),\n",
              " 'ball': (0.00034500227220146673, '0', '0.4093665525', [440, 878]),\n",
              " 'bit': (0.0014005141835496948, '1', '0.3065766263', [296, 622]),\n",
              " 'circle': (0.0005405150154823568, '1', '0.1710871199', [131, 245]),\n",
              " 'donkey': (0.00031542613365564964, '0', '0.1601038896', [118, 148]),\n",
              " 'edge': (0.0003277821176359552, '1', '0.2609655868', [457, 1072]),\n",
              " 'face': (0.00018930090741442474, '0', '0.137791275', [3394, 3932]),\n",
              " 'fiction': (0.0004989377906956527, '0', '0.0207232682', [202, 326]),\n",
              " 'gas': (0.0006198537350170508, '0', '0.1595695865', [155, 680]),\n",
              " 'head': (0.00023467914446717586, '1', '0.2952561247', [3599, 4127]),\n",
              " 'land': (0.00020207941652317096, '1', '0.2234476353', [2321, 1624]),\n",
              " 'multitude': (0.0011614570654803202, '0', '0.1003636619', [475, 131]),\n",
              " 'ounce': (0.0004922406894714015, '0', '0.2848990681', [208, 189]),\n",
              " 'part': (0.00035978669681580033, '0', '0.161270809', [4410, 3213]),\n",
              " 'pin': (0.0004953887365953813, '0', '0.2072118595', [114, 217]),\n",
              " 'plane': (0.001002191250322415, '1', '0.8823475834', [278, 792]),\n",
              " 'player': (0.0006429535206379233, '1', '0.2736674651', [132, 939]),\n",
              " 'prop': (0.0005479012768214719, '1', '0.624759971', [121, 147]),\n",
              " 'quilt': (0.0009999325757332755, '0', '0.1231453661', [106, 189]),\n",
              " 'rag': (0.0005285817811016003, '1', '0.2765152931', [158, 208]),\n",
              " 'record': (0.0008756957945711408, '1', '0.4273504707', [420, 1188]),\n",
              " 'relationship': (0.0004343605995912325, '0', '0.0562177896', [130, 841]),\n",
              " 'risk': (0.00048595984457222574, '0', '0', [286, 643]),\n",
              " 'savage': (0.0006386506289202121, '0', '0.0968689424', [504, 133]),\n",
              " 'stab': (0.001340821343941423, '1', '0.4005896829', [92, 117]),\n",
              " 'stroke': (0.0007708830015382695, '0', '0.1762311532', [110, 227]),\n",
              " 'thump': (0.0011790924765886501, '1', '0.1429915711', [89, 127]),\n",
              " 'tip': (0.0007779623301791272, '1', '0.6788987615', [119, 241]),\n",
              " 'tree': (0.00017057382435892166, '0', '0.070838721', [2322, 1596]),\n",
              " 'twist': (0.0005297232929974971, '0', '0.3984926634', [103, 186]),\n",
              " 'word': (0.00031084197758479704, '0', '0.1793071623', [4387, 3166])}"
            ]
          },
          "metadata": {},
          "execution_count": 101
        }
      ]
    },
    {
      "cell_type": "code",
      "source": [
        "from sklearn.preprocessing import MinMaxScaler\n",
        "scaler_pred = MinMaxScaler()\n",
        "scaled_pred = scaler_pred.fit_transform(np.array(prediction_list).reshape(-1, 1))\n",
        "\n",
        "scaler_gt = MinMaxScaler()\n",
        "scaled_gt = scaler_gt.fit_transform(np.array(gt_task2).reshape(-1, 1))\n",
        "\n",
        "scaled_freq_change = []\n",
        "for freq in freq_list:\n",
        "  scaled_freq_change.append((freq[1]-freq[0])/freq[0]*100)\n",
        "\n"
      ],
      "metadata": {
        "id": "CTR1Ct9O8pa4"
      },
      "execution_count": null,
      "outputs": []
    },
    {
      "cell_type": "code",
      "source": [
        "'''\n",
        "plots:\n",
        "  #1, X: freq change, Y:prediction and gt\n",
        "  #2, X: min freq, Y:Prediction and gt\n",
        "'''\n",
        "\n",
        "\n",
        "\n",
        "# plot 1 X: freq change, Y:prediction and gt\n",
        "\n",
        "\n",
        "\n",
        "rng = np.random.RandomState(0)\n",
        "# for marker in ['o', '.', ',', 'x', '+', 'v', '^', '<', '>', 's', 'd']:\n",
        "plt.plot(scaled_freq_change, scaled_gt, 'x',label=\"Ground truth LSC normalized\")\n",
        "plt.plot(scaled_freq_change, scaled_pred, 'o',label=\"Predicted LSC normalized\")\n",
        "plt.legend(loc=1)\n",
        "plt.xlabel('% of frequency change between two period')\n",
        "plt.ylabel('normalized LSC')\n",
        "plt.ylim(0,1.3)\n"
      ],
      "metadata": {
        "colab": {
          "base_uri": "https://localhost:8080/",
          "height": 296
        },
        "id": "wOTeoWuzGwUc",
        "outputId": "53bb7a88-dd35-4d0c-b3a2-643969b565e2"
      },
      "execution_count": null,
      "outputs": [
        {
          "output_type": "execute_result",
          "data": {
            "text/plain": [
              "(0.0, 1.3)"
            ]
          },
          "metadata": {},
          "execution_count": 117
        },
        {
          "output_type": "display_data",
          "data": {
            "text/plain": [
              "<Figure size 432x288 with 1 Axes>"
            ],
            "image/png": "[encoded data removed]"
          },
          "metadata": {
            "needs_background": "light"
          }
        }
      ]
    },
    {
      "cell_type": "code",
      "source": [
        "rng = np.random.RandomState(0)\n",
        "# for marker in ['o', '.', ',', 'x', '+', 'v', '^', '<', '>', 's', 'd']:\n",
        "plt.plot(first_c_freq, scaled_gt, 'x',label=\"Ground truth LSC normalized\")\n",
        "plt.plot(first_c_freq, scaled_pred, 'o',label=\"Predicted LSC normalized\")\n",
        "plt.legend(loc=1)\n",
        "plt.xlabel('minimum of occurances in two periods')\n",
        "plt.ylabel('normalized LSC')\n",
        "plt.ylim(0,1.3)\n"
      ],
      "metadata": {
        "colab": {
          "base_uri": "https://localhost:8080/",
          "height": 296
        },
        "id": "JiNcSeuxM0WY",
        "outputId": "cd92d2b3-34fd-4302-9434-8cb47f1e24a6"
      },
      "execution_count": null,
      "outputs": [
        {
          "output_type": "execute_result",
          "data": {
            "text/plain": [
              "(0.0, 1.3)"
            ]
          },
          "metadata": {},
          "execution_count": 116
        },
        {
          "output_type": "display_data",
          "data": {
            "text/plain": [
              "<Figure size 432x288 with 1 Axes>"
            ],
            "image/png": "[encoded data removed]"
          },
          "metadata": {
            "needs_background": "light"
          }
        }
      ]
    }
  ],
  "metadata": {
    "colab": {
      "collapsed_sections": [],
      "name": "Copy of Semantic_change_project.ipynb",
      "provenance": []
    },
    "kernelspec": {
      "display_name": "Python 3",
      "name": "python3"
    },
    "language_info": {
      "name": "python"
    },
    "widgets": {
      "application/vnd.jupyter.widget-state+json": {
        "b87cb2512f3d44b9b85484ce6c955f52": {
          "model_module": "@jupyter-widgets/controls",
          "model_name": "HBoxModel",
          "model_module_version": "1.5.0",
          "state": {
            "_dom_classes": [],
            "_model_module": "@jupyter-widgets/controls",
            "_model_module_version": "1.5.0",
            "_model_name": "HBoxModel",
            "_view_count": null,
            "_view_module": "@jupyter-widgets/controls",
            "_view_module_version": "1.5.0",
            "_view_name": "HBoxView",
            "box_style": "",
            "children": [
              "IPY_MODEL_4166f9fa2af54637a5663e420dace44d",
              "IPY_MODEL_5a249cacbd36454d8c36d7132ec8ffb9",
              "IPY_MODEL_af42f8c3411a4821b420c4748853401a"
            ],
            "layout": "IPY_MODEL_603947d3cdf1490fa75d376d2178f1f2"
          }
        },
        "4166f9fa2af54637a5663e420dace44d": {
          "model_module": "@jupyter-widgets/controls",
          "model_name": "HTMLModel",
          "model_module_version": "1.5.0",
          "state": {
            "_dom_classes": [],
            "_model_module": "@jupyter-widgets/controls",
            "_model_module_version": "1.5.0",
            "_model_name": "HTMLModel",
            "_view_count": null,
            "_view_module": "@jupyter-widgets/controls",
            "_view_module_version": "1.5.0",
            "_view_name": "HTMLView",
            "description": "",
            "description_tooltip": null,
            "layout": "IPY_MODEL_ca3ab365cb3443caab20815a7b5f8a9f",
            "placeholder": "​",
            "style": "IPY_MODEL_4dbb347958794692a93914ec622ec534",
            "value": "Downloading: 100%"
          }
        },
        "5a249cacbd36454d8c36d7132ec8ffb9": {
          "model_module": "@jupyter-widgets/controls",
          "model_name": "FloatProgressModel",
          "model_module_version": "1.5.0",
          "state": {
            "_dom_classes": [],
            "_model_module": "@jupyter-widgets/controls",
            "_model_module_version": "1.5.0",
            "_model_name": "FloatProgressModel",
            "_view_count": null,
            "_view_module": "@jupyter-widgets/controls",
            "_view_module_version": "1.5.0",
            "_view_name": "ProgressView",
            "bar_style": "success",
            "description": "",
            "description_tooltip": null,
            "layout": "IPY_MODEL_8492ef7a1aa549888c6a6cf1d0daa6fd",
            "max": 231508,
            "min": 0,
            "orientation": "horizontal",
            "style": "IPY_MODEL_2788c06423f34c92bc25d15dd465f1c5",
            "value": 231508
          }
        },
        "af42f8c3411a4821b420c4748853401a": {
          "model_module": "@jupyter-widgets/controls",
          "model_name": "HTMLModel",
          "model_module_version": "1.5.0",
          "state": {
            "_dom_classes": [],
            "_model_module": "@jupyter-widgets/controls",
            "_model_module_version": "1.5.0",
            "_model_name": "HTMLModel",
            "_view_count": null,
            "_view_module": "@jupyter-widgets/controls",
            "_view_module_version": "1.5.0",
            "_view_name": "HTMLView",
            "description": "",
            "description_tooltip": null,
            "layout": "IPY_MODEL_353814a11b704a5cb73c1349e416f415",
            "placeholder": "​",
            "style": "IPY_MODEL_12a9a21289f7468783cc48e169502600",
            "value": " 226k/226k [00:00&lt;00:00, 320kB/s]"
          }
        },
        "603947d3cdf1490fa75d376d2178f1f2": {
          "model_module": "@jupyter-widgets/base",
          "model_name": "LayoutModel",
          "model_module_version": "1.2.0",
          "state": {
            "_model_module": "@jupyter-widgets/base",
            "_model_module_version": "1.2.0",
            "_model_name": "LayoutModel",
            "_view_count": null,
            "_view_module": "@jupyter-widgets/base",
            "_view_module_version": "1.2.0",
            "_view_name": "LayoutView",
            "align_content": null,
            "align_items": null,
            "align_self": null,
            "border": null,
            "bottom": null,
            "display": null,
            "flex": null,
            "flex_flow": null,
            "grid_area": null,
            "grid_auto_columns": null,
            "grid_auto_flow": null,
            "grid_auto_rows": null,
            "grid_column": null,
            "grid_gap": null,
            "grid_row": null,
            "grid_template_areas": null,
            "grid_template_columns": null,
            "grid_template_rows": null,
            "height": null,
            "justify_content": null,
            "justify_items": null,
            "left": null,
            "margin": null,
            "max_height": null,
            "max_width": null,
            "min_height": null,
            "min_width": null,
            "object_fit": null,
            "object_position": null,
            "order": null,
            "overflow": null,
            "overflow_x": null,
            "overflow_y": null,
            "padding": null,
            "right": null,
            "top": null,
            "visibility": null,
            "width": null
          }
        },
        "ca3ab365cb3443caab20815a7b5f8a9f": {
          "model_module": "@jupyter-widgets/base",
          "model_name": "LayoutModel",
          "model_module_version": "1.2.0",
          "state": {
            "_model_module": "@jupyter-widgets/base",
            "_model_module_version": "1.2.0",
            "_model_name": "LayoutModel",
            "_view_count": null,
            "_view_module": "@jupyter-widgets/base",
            "_view_module_version": "1.2.0",
            "_view_name": "LayoutView",
            "align_content": null,
            "align_items": null,
            "align_self": null,
            "border": null,
            "bottom": null,
            "display": null,
            "flex": null,
            "flex_flow": null,
            "grid_area": null,
            "grid_auto_columns": null,
            "grid_auto_flow": null,
            "grid_auto_rows": null,
            "grid_column": null,
            "grid_gap": null,
            "grid_row": null,
            "grid_template_areas": null,
            "grid_template_columns": null,
            "grid_template_rows": null,
            "height": null,
            "justify_content": null,
            "justify_items": null,
            "left": null,
            "margin": null,
            "max_height": null,
            "max_width": null,
            "min_height": null,
            "min_width": null,
            "object_fit": null,
            "object_position": null,
            "order": null,
            "overflow": null,
            "overflow_x": null,
            "overflow_y": null,
            "padding": null,
            "right": null,
            "top": null,
            "visibility": null,
            "width": null
          }
        },
        "4dbb347958794692a93914ec622ec534": {
          "model_module": "@jupyter-widgets/controls",
          "model_name": "DescriptionStyleModel",
          "model_module_version": "1.5.0",
          "state": {
            "_model_module": "@jupyter-widgets/controls",
            "_model_module_version": "1.5.0",
            "_model_name": "DescriptionStyleModel",
            "_view_count": null,
            "_view_module": "@jupyter-widgets/base",
            "_view_module_version": "1.2.0",
            "_view_name": "StyleView",
            "description_width": ""
          }
        },
        "8492ef7a1aa549888c6a6cf1d0daa6fd": {
          "model_module": "@jupyter-widgets/base",
          "model_name": "LayoutModel",
          "model_module_version": "1.2.0",
          "state": {
            "_model_module": "@jupyter-widgets/base",
            "_model_module_version": "1.2.0",
            "_model_name": "LayoutModel",
            "_view_count": null,
            "_view_module": "@jupyter-widgets/base",
            "_view_module_version": "1.2.0",
            "_view_name": "LayoutView",
            "align_content": null,
            "align_items": null,
            "align_self": null,
            "border": null,
            "bottom": null,
            "display": null,
            "flex": null,
            "flex_flow": null,
            "grid_area": null,
            "grid_auto_columns": null,
            "grid_auto_flow": null,
            "grid_auto_rows": null,
            "grid_column": null,
            "grid_gap": null,
            "grid_row": null,
            "grid_template_areas": null,
            "grid_template_columns": null,
            "grid_template_rows": null,
            "height": null,
            "justify_content": null,
            "justify_items": null,
            "left": null,
            "margin": null,
            "max_height": null,
            "max_width": null,
            "min_height": null,
            "min_width": null,
            "object_fit": null,
            "object_position": null,
            "order": null,
            "overflow": null,
            "overflow_x": null,
            "overflow_y": null,
            "padding": null,
            "right": null,
            "top": null,
            "visibility": null,
            "width": null
          }
        },
        "2788c06423f34c92bc25d15dd465f1c5": {
          "model_module": "@jupyter-widgets/controls",
          "model_name": "ProgressStyleModel",
          "model_module_version": "1.5.0",
          "state": {
            "_model_module": "@jupyter-widgets/controls",
            "_model_module_version": "1.5.0",
            "_model_name": "ProgressStyleModel",
            "_view_count": null,
            "_view_module": "@jupyter-widgets/base",
            "_view_module_version": "1.2.0",
            "_view_name": "StyleView",
            "bar_color": null,
            "description_width": ""
          }
        },
        "353814a11b704a5cb73c1349e416f415": {
          "model_module": "@jupyter-widgets/base",
          "model_name": "LayoutModel",
          "model_module_version": "1.2.0",
          "state": {
            "_model_module": "@jupyter-widgets/base",
            "_model_module_version": "1.2.0",
            "_model_name": "LayoutModel",
            "_view_count": null,
            "_view_module": "@jupyter-widgets/base",
            "_view_module_version": "1.2.0",
            "_view_name": "LayoutView",
            "align_content": null,
            "align_items": null,
            "align_self": null,
            "border": null,
            "bottom": null,
            "display": null,
            "flex": null,
            "flex_flow": null,
            "grid_area": null,
            "grid_auto_columns": null,
            "grid_auto_flow": null,
            "grid_auto_rows": null,
            "grid_column": null,
            "grid_gap": null,
            "grid_row": null,
            "grid_template_areas": null,
            "grid_template_columns": null,
            "grid_template_rows": null,
            "height": null,
            "justify_content": null,
            "justify_items": null,
            "left": null,
            "margin": null,
            "max_height": null,
            "max_width": null,
            "min_height": null,
            "min_width": null,
            "object_fit": null,
            "object_position": null,
            "order": null,
            "overflow": null,
            "overflow_x": null,
            "overflow_y": null,
            "padding": null,
            "right": null,
            "top": null,
            "visibility": null,
            "width": null
          }
        },
        "12a9a21289f7468783cc48e169502600": {
          "model_module": "@jupyter-widgets/controls",
          "model_name": "DescriptionStyleModel",
          "model_module_version": "1.5.0",
          "state": {
            "_model_module": "@jupyter-widgets/controls",
            "_model_module_version": "1.5.0",
            "_model_name": "DescriptionStyleModel",
            "_view_count": null,
            "_view_module": "@jupyter-widgets/base",
            "_view_module_version": "1.2.0",
            "_view_name": "StyleView",
            "description_width": ""
          }
        },
        "c9091bd2f2dc47bdb2552a5a0ce11cbd": {
          "model_module": "@jupyter-widgets/controls",
          "model_name": "HBoxModel",
          "model_module_version": "1.5.0",
          "state": {
            "_dom_classes": [],
            "_model_module": "@jupyter-widgets/controls",
            "_model_module_version": "1.5.0",
            "_model_name": "HBoxModel",
            "_view_count": null,
            "_view_module": "@jupyter-widgets/controls",
            "_view_module_version": "1.5.0",
            "_view_name": "HBoxView",
            "box_style": "",
            "children": [
              "IPY_MODEL_53ed9e38fafd45cfb80f50a65046a186",
              "IPY_MODEL_d8648fd4fa1c410182ba3f7cd4427502",
              "IPY_MODEL_409fe0ea1778439da7160b5098209548"
            ],
            "layout": "IPY_MODEL_1f9e167498304b539c323026bea20fff"
          }
        },
        "53ed9e38fafd45cfb80f50a65046a186": {
          "model_module": "@jupyter-widgets/controls",
          "model_name": "HTMLModel",
          "model_module_version": "1.5.0",
          "state": {
            "_dom_classes": [],
            "_model_module": "@jupyter-widgets/controls",
            "_model_module_version": "1.5.0",
            "_model_name": "HTMLModel",
            "_view_count": null,
            "_view_module": "@jupyter-widgets/controls",
            "_view_module_version": "1.5.0",
            "_view_name": "HTMLView",
            "description": "",
            "description_tooltip": null,
            "layout": "IPY_MODEL_5b2b6f2bd112440c9a2ffe23e71bcea5",
            "placeholder": "​",
            "style": "IPY_MODEL_486cbb712b9a4b7b91d2836241d1f5bc",
            "value": "Downloading: 100%"
          }
        },
        "d8648fd4fa1c410182ba3f7cd4427502": {
          "model_module": "@jupyter-widgets/controls",
          "model_name": "FloatProgressModel",
          "model_module_version": "1.5.0",
          "state": {
            "_dom_classes": [],
            "_model_module": "@jupyter-widgets/controls",
            "_model_module_version": "1.5.0",
            "_model_name": "FloatProgressModel",
            "_view_count": null,
            "_view_module": "@jupyter-widgets/controls",
            "_view_module_version": "1.5.0",
            "_view_name": "ProgressView",
            "bar_style": "success",
            "description": "",
            "description_tooltip": null,
            "layout": "IPY_MODEL_efbcbb06aa784e6ca86e4ca8c2136cd7",
            "max": 28,
            "min": 0,
            "orientation": "horizontal",
            "style": "IPY_MODEL_9bfb837883674ed4aec4f2d7458ca225",
            "value": 28
          }
        },
        "409fe0ea1778439da7160b5098209548": {
          "model_module": "@jupyter-widgets/controls",
          "model_name": "HTMLModel",
          "model_module_version": "1.5.0",
          "state": {
            "_dom_classes": [],
            "_model_module": "@jupyter-widgets/controls",
            "_model_module_version": "1.5.0",
            "_model_name": "HTMLModel",
            "_view_count": null,
            "_view_module": "@jupyter-widgets/controls",
            "_view_module_version": "1.5.0",
            "_view_name": "HTMLView",
            "description": "",
            "description_tooltip": null,
            "layout": "IPY_MODEL_74c79beac57447d98f2c3c61bfd6c5ea",
            "placeholder": "​",
            "style": "IPY_MODEL_19b0941b2ffc432ea4adf966501c7775",
            "value": " 28.0/28.0 [00:00&lt;00:00, 206B/s]"
          }
        },
        "1f9e167498304b539c323026bea20fff": {
          "model_module": "@jupyter-widgets/base",
          "model_name": "LayoutModel",
          "model_module_version": "1.2.0",
          "state": {
            "_model_module": "@jupyter-widgets/base",
            "_model_module_version": "1.2.0",
            "_model_name": "LayoutModel",
            "_view_count": null,
            "_view_module": "@jupyter-widgets/base",
            "_view_module_version": "1.2.0",
            "_view_name": "LayoutView",
            "align_content": null,
            "align_items": null,
            "align_self": null,
            "border": null,
            "bottom": null,
            "display": null,
            "flex": null,
            "flex_flow": null,
            "grid_area": null,
            "grid_auto_columns": null,
            "grid_auto_flow": null,
            "grid_auto_rows": null,
            "grid_column": null,
            "grid_gap": null,
            "grid_row": null,
            "grid_template_areas": null,
            "grid_template_columns": null,
            "grid_template_rows": null,
            "height": null,
            "justify_content": null,
            "justify_items": null,
            "left": null,
            "margin": null,
            "max_height": null,
            "max_width": null,
            "min_height": null,
            "min_width": null,
            "object_fit": null,
            "object_position": null,
            "order": null,
            "overflow": null,
            "overflow_x": null,
            "overflow_y": null,
            "padding": null,
            "right": null,
            "top": null,
            "visibility": null,
            "width": null
          }
        },
        "5b2b6f2bd112440c9a2ffe23e71bcea5": {
          "model_module": "@jupyter-widgets/base",
          "model_name": "LayoutModel",
          "model_module_version": "1.2.0",
          "state": {
            "_model_module": "@jupyter-widgets/base",
            "_model_module_version": "1.2.0",
            "_model_name": "LayoutModel",
            "_view_count": null,
            "_view_module": "@jupyter-widgets/base",
            "_view_module_version": "1.2.0",
            "_view_name": "LayoutView",
            "align_content": null,
            "align_items": null,
            "align_self": null,
            "border": null,
            "bottom": null,
            "display": null,
            "flex": null,
            "flex_flow": null,
            "grid_area": null,
            "grid_auto_columns": null,
            "grid_auto_flow": null,
            "grid_auto_rows": null,
            "grid_column": null,
            "grid_gap": null,
            "grid_row": null,
            "grid_template_areas": null,
            "grid_template_columns": null,
            "grid_template_rows": null,
            "height": null,
            "justify_content": null,
            "justify_items": null,
            "left": null,
            "margin": null,
            "max_height": null,
            "max_width": null,
            "min_height": null,
            "min_width": null,
            "object_fit": null,
            "object_position": null,
            "order": null,
            "overflow": null,
            "overflow_x": null,
            "overflow_y": null,
            "padding": null,
            "right": null,
            "top": null,
            "visibility": null,
            "width": null
          }
        },
        "486cbb712b9a4b7b91d2836241d1f5bc": {
          "model_module": "@jupyter-widgets/controls",
          "model_name": "DescriptionStyleModel",
          "model_module_version": "1.5.0",
          "state": {
            "_model_module": "@jupyter-widgets/controls",
            "_model_module_version": "1.5.0",
            "_model_name": "DescriptionStyleModel",
            "_view_count": null,
            "_view_module": "@jupyter-widgets/base",
            "_view_module_version": "1.2.0",
            "_view_name": "StyleView",
            "description_width": ""
          }
        },
        "efbcbb06aa784e6ca86e4ca8c2136cd7": {
          "model_module": "@jupyter-widgets/base",
          "model_name": "LayoutModel",
          "model_module_version": "1.2.0",
          "state": {
            "_model_module": "@jupyter-widgets/base",
            "_model_module_version": "1.2.0",
            "_model_name": "LayoutModel",
            "_view_count": null,
            "_view_module": "@jupyter-widgets/base",
            "_view_module_version": "1.2.0",
            "_view_name": "LayoutView",
            "align_content": null,
            "align_items": null,
            "align_self": null,
            "border": null,
            "bottom": null,
            "display": null,
            "flex": null,
            "flex_flow": null,
            "grid_area": null,
            "grid_auto_columns": null,
            "grid_auto_flow": null,
            "grid_auto_rows": null,
            "grid_column": null,
            "grid_gap": null,
            "grid_row": null,
            "grid_template_areas": null,
            "grid_template_columns": null,
            "grid_template_rows": null,
            "height": null,
            "justify_content": null,
            "justify_items": null,
            "left": null,
            "margin": null,
            "max_height": null,
            "max_width": null,
            "min_height": null,
            "min_width": null,
            "object_fit": null,
            "object_position": null,
            "order": null,
            "overflow": null,
            "overflow_x": null,
            "overflow_y": null,
            "padding": null,
            "right": null,
            "top": null,
            "visibility": null,
            "width": null
          }
        },
        "9bfb837883674ed4aec4f2d7458ca225": {
          "model_module": "@jupyter-widgets/controls",
          "model_name": "ProgressStyleModel",
          "model_module_version": "1.5.0",
          "state": {
            "_model_module": "@jupyter-widgets/controls",
            "_model_module_version": "1.5.0",
            "_model_name": "ProgressStyleModel",
            "_view_count": null,
            "_view_module": "@jupyter-widgets/base",
            "_view_module_version": "1.2.0",
            "_view_name": "StyleView",
            "bar_color": null,
            "description_width": ""
          }
        },
        "74c79beac57447d98f2c3c61bfd6c5ea": {
          "model_module": "@jupyter-widgets/base",
          "model_name": "LayoutModel",
          "model_module_version": "1.2.0",
          "state": {
            "_model_module": "@jupyter-widgets/base",
            "_model_module_version": "1.2.0",
            "_model_name": "LayoutModel",
            "_view_count": null,
            "_view_module": "@jupyter-widgets/base",
            "_view_module_version": "1.2.0",
            "_view_name": "LayoutView",
            "align_content": null,
            "align_items": null,
            "align_self": null,
            "border": null,
            "bottom": null,
            "display": null,
            "flex": null,
            "flex_flow": null,
            "grid_area": null,
            "grid_auto_columns": null,
            "grid_auto_flow": null,
            "grid_auto_rows": null,
            "grid_column": null,
            "grid_gap": null,
            "grid_row": null,
            "grid_template_areas": null,
            "grid_template_columns": null,
            "grid_template_rows": null,
            "height": null,
            "justify_content": null,
            "justify_items": null,
            "left": null,
            "margin": null,
            "max_height": null,
            "max_width": null,
            "min_height": null,
            "min_width": null,
            "object_fit": null,
            "object_position": null,
            "order": null,
            "overflow": null,
            "overflow_x": null,
            "overflow_y": null,
            "padding": null,
            "right": null,
            "top": null,
            "visibility": null,
            "width": null
          }
        },
        "19b0941b2ffc432ea4adf966501c7775": {
          "model_module": "@jupyter-widgets/controls",
          "model_name": "DescriptionStyleModel",
          "model_module_version": "1.5.0",
          "state": {
            "_model_module": "@jupyter-widgets/controls",
            "_model_module_version": "1.5.0",
            "_model_name": "DescriptionStyleModel",
            "_view_count": null,
            "_view_module": "@jupyter-widgets/base",
            "_view_module_version": "1.2.0",
            "_view_name": "StyleView",
            "description_width": ""
          }
        },
        "f9cf4e6e5b7343cc9b8df337ffc918b7": {
          "model_module": "@jupyter-widgets/controls",
          "model_name": "HBoxModel",
          "model_module_version": "1.5.0",
          "state": {
            "_dom_classes": [],
            "_model_module": "@jupyter-widgets/controls",
            "_model_module_version": "1.5.0",
            "_model_name": "HBoxModel",
            "_view_count": null,
            "_view_module": "@jupyter-widgets/controls",
            "_view_module_version": "1.5.0",
            "_view_name": "HBoxView",
            "box_style": "",
            "children": [
              "IPY_MODEL_d778b37137134cc4ba4af33f9d77a85a",
              "IPY_MODEL_76237020ac5649e1be58c0c086ca6dfd",
              "IPY_MODEL_757c99b8d5a84739b027743f99d7752f"
            ],
            "layout": "IPY_MODEL_eaa87a446f514a5cbe6ff8483f9c7e9f"
          }
        },
        "d778b37137134cc4ba4af33f9d77a85a": {
          "model_module": "@jupyter-widgets/controls",
          "model_name": "HTMLModel",
          "model_module_version": "1.5.0",
          "state": {
            "_dom_classes": [],
            "_model_module": "@jupyter-widgets/controls",
            "_model_module_version": "1.5.0",
            "_model_name": "HTMLModel",
            "_view_count": null,
            "_view_module": "@jupyter-widgets/controls",
            "_view_module_version": "1.5.0",
            "_view_name": "HTMLView",
            "description": "",
            "description_tooltip": null,
            "layout": "IPY_MODEL_a454836f20024a3681dc356f9ae8fd2e",
            "placeholder": "​",
            "style": "IPY_MODEL_670e0a43f66040448f7eb8cb5f4a6caa",
            "value": "Downloading: 100%"
          }
        },
        "76237020ac5649e1be58c0c086ca6dfd": {
          "model_module": "@jupyter-widgets/controls",
          "model_name": "FloatProgressModel",
          "model_module_version": "1.5.0",
          "state": {
            "_dom_classes": [],
            "_model_module": "@jupyter-widgets/controls",
            "_model_module_version": "1.5.0",
            "_model_name": "FloatProgressModel",
            "_view_count": null,
            "_view_module": "@jupyter-widgets/controls",
            "_view_module_version": "1.5.0",
            "_view_name": "ProgressView",
            "bar_style": "success",
            "description": "",
            "description_tooltip": null,
            "layout": "IPY_MODEL_55a7856ce9264dc19b5c1cac9b154338",
            "max": 570,
            "min": 0,
            "orientation": "horizontal",
            "style": "IPY_MODEL_6f0d353d24774ae0bfda2d43bae7ef7d",
            "value": 570
          }
        },
        "757c99b8d5a84739b027743f99d7752f": {
          "model_module": "@jupyter-widgets/controls",
          "model_name": "HTMLModel",
          "model_module_version": "1.5.0",
          "state": {
            "_dom_classes": [],
            "_model_module": "@jupyter-widgets/controls",
            "_model_module_version": "1.5.0",
            "_model_name": "HTMLModel",
            "_view_count": null,
            "_view_module": "@jupyter-widgets/controls",
            "_view_module_version": "1.5.0",
            "_view_name": "HTMLView",
            "description": "",
            "description_tooltip": null,
            "layout": "IPY_MODEL_aa6ef2c3dc8043899ea4e79b38ca4f65",
            "placeholder": "​",
            "style": "IPY_MODEL_aa41fc3ca26641228a159a9d7faa8197",
            "value": " 570/570 [00:00&lt;00:00, 5.87kB/s]"
          }
        },
        "eaa87a446f514a5cbe6ff8483f9c7e9f": {
          "model_module": "@jupyter-widgets/base",
          "model_name": "LayoutModel",
          "model_module_version": "1.2.0",
          "state": {
            "_model_module": "@jupyter-widgets/base",
            "_model_module_version": "1.2.0",
            "_model_name": "LayoutModel",
            "_view_count": null,
            "_view_module": "@jupyter-widgets/base",
            "_view_module_version": "1.2.0",
            "_view_name": "LayoutView",
            "align_content": null,
            "align_items": null,
            "align_self": null,
            "border": null,
            "bottom": null,
            "display": null,
            "flex": null,
            "flex_flow": null,
            "grid_area": null,
            "grid_auto_columns": null,
            "grid_auto_flow": null,
            "grid_auto_rows": null,
            "grid_column": null,
            "grid_gap": null,
            "grid_row": null,
            "grid_template_areas": null,
            "grid_template_columns": null,
            "grid_template_rows": null,
            "height": null,
            "justify_content": null,
            "justify_items": null,
            "left": null,
            "margin": null,
            "max_height": null,
            "max_width": null,
            "min_height": null,
            "min_width": null,
            "object_fit": null,
            "object_position": null,
            "order": null,
            "overflow": null,
            "overflow_x": null,
            "overflow_y": null,
            "padding": null,
            "right": null,
            "top": null,
            "visibility": null,
            "width": null
          }
        },
        "a454836f20024a3681dc356f9ae8fd2e": {
          "model_module": "@jupyter-widgets/base",
          "model_name": "LayoutModel",
          "model_module_version": "1.2.0",
          "state": {
            "_model_module": "@jupyter-widgets/base",
            "_model_module_version": "1.2.0",
            "_model_name": "LayoutModel",
            "_view_count": null,
            "_view_module": "@jupyter-widgets/base",
            "_view_module_version": "1.2.0",
            "_view_name": "LayoutView",
            "align_content": null,
            "align_items": null,
            "align_self": null,
            "border": null,
            "bottom": null,
            "display": null,
            "flex": null,
            "flex_flow": null,
            "grid_area": null,
            "grid_auto_columns": null,
            "grid_auto_flow": null,
            "grid_auto_rows": null,
            "grid_column": null,
            "grid_gap": null,
            "grid_row": null,
            "grid_template_areas": null,
            "grid_template_columns": null,
            "grid_template_rows": null,
            "height": null,
            "justify_content": null,
            "justify_items": null,
            "left": null,
            "margin": null,
            "max_height": null,
            "max_width": null,
            "min_height": null,
            "min_width": null,
            "object_fit": null,
            "object_position": null,
            "order": null,
            "overflow": null,
            "overflow_x": null,
            "overflow_y": null,
            "padding": null,
            "right": null,
            "top": null,
            "visibility": null,
            "width": null
          }
        },
        "670e0a43f66040448f7eb8cb5f4a6caa": {
          "model_module": "@jupyter-widgets/controls",
          "model_name": "DescriptionStyleModel",
          "model_module_version": "1.5.0",
          "state": {
            "_model_module": "@jupyter-widgets/controls",
            "_model_module_version": "1.5.0",
            "_model_name": "DescriptionStyleModel",
            "_view_count": null,
            "_view_module": "@jupyter-widgets/base",
            "_view_module_version": "1.2.0",
            "_view_name": "StyleView",
            "description_width": ""
          }
        },
        "55a7856ce9264dc19b5c1cac9b154338": {
          "model_module": "@jupyter-widgets/base",
          "model_name": "LayoutModel",
          "model_module_version": "1.2.0",
          "state": {
            "_model_module": "@jupyter-widgets/base",
            "_model_module_version": "1.2.0",
            "_model_name": "LayoutModel",
            "_view_count": null,
            "_view_module": "@jupyter-widgets/base",
            "_view_module_version": "1.2.0",
            "_view_name": "LayoutView",
            "align_content": null,
            "align_items": null,
            "align_self": null,
            "border": null,
            "bottom": null,
            "display": null,
            "flex": null,
            "flex_flow": null,
            "grid_area": null,
            "grid_auto_columns": null,
            "grid_auto_flow": null,
            "grid_auto_rows": null,
            "grid_column": null,
            "grid_gap": null,
            "grid_row": null,
            "grid_template_areas": null,
            "grid_template_columns": null,
            "grid_template_rows": null,
            "height": null,
            "justify_content": null,
            "justify_items": null,
            "left": null,
            "margin": null,
            "max_height": null,
            "max_width": null,
            "min_height": null,
            "min_width": null,
            "object_fit": null,
            "object_position": null,
            "order": null,
            "overflow": null,
            "overflow_x": null,
            "overflow_y": null,
            "padding": null,
            "right": null,
            "top": null,
            "visibility": null,
            "width": null
          }
        },
        "6f0d353d24774ae0bfda2d43bae7ef7d": {
          "model_module": "@jupyter-widgets/controls",
          "model_name": "ProgressStyleModel",
          "model_module_version": "1.5.0",
          "state": {
            "_model_module": "@jupyter-widgets/controls",
            "_model_module_version": "1.5.0",
            "_model_name": "ProgressStyleModel",
            "_view_count": null,
            "_view_module": "@jupyter-widgets/base",
            "_view_module_version": "1.2.0",
            "_view_name": "StyleView",
            "bar_color": null,
            "description_width": ""
          }
        },
        "aa6ef2c3dc8043899ea4e79b38ca4f65": {
          "model_module": "@jupyter-widgets/base",
          "model_name": "LayoutModel",
          "model_module_version": "1.2.0",
          "state": {
            "_model_module": "@jupyter-widgets/base",
            "_model_module_version": "1.2.0",
            "_model_name": "LayoutModel",
            "_view_count": null,
            "_view_module": "@jupyter-widgets/base",
            "_view_module_version": "1.2.0",
            "_view_name": "LayoutView",
            "align_content": null,
            "align_items": null,
            "align_self": null,
            "border": null,
            "bottom": null,
            "display": null,
            "flex": null,
            "flex_flow": null,
            "grid_area": null,
            "grid_auto_columns": null,
            "grid_auto_flow": null,
            "grid_auto_rows": null,
            "grid_column": null,
            "grid_gap": null,
            "grid_row": null,
            "grid_template_areas": null,
            "grid_template_columns": null,
            "grid_template_rows": null,
            "height": null,
            "justify_content": null,
            "justify_items": null,
            "left": null,
            "margin": null,
            "max_height": null,
            "max_width": null,
            "min_height": null,
            "min_width": null,
            "object_fit": null,
            "object_position": null,
            "order": null,
            "overflow": null,
            "overflow_x": null,
            "overflow_y": null,
            "padding": null,
            "right": null,
            "top": null,
            "visibility": null,
            "width": null
          }
        },
        "aa41fc3ca26641228a159a9d7faa8197": {
          "model_module": "@jupyter-widgets/controls",
          "model_name": "DescriptionStyleModel",
          "model_module_version": "1.5.0",
          "state": {
            "_model_module": "@jupyter-widgets/controls",
            "_model_module_version": "1.5.0",
            "_model_name": "DescriptionStyleModel",
            "_view_count": null,
            "_view_module": "@jupyter-widgets/base",
            "_view_module_version": "1.2.0",
            "_view_name": "StyleView",
            "description_width": ""
          }
        },
        "d7f32eae90ac43529a7f2daec7f1cf55": {
          "model_module": "@jupyter-widgets/controls",
          "model_name": "HBoxModel",
          "model_module_version": "1.5.0",
          "state": {
            "_dom_classes": [],
            "_model_module": "@jupyter-widgets/controls",
            "_model_module_version": "1.5.0",
            "_model_name": "HBoxModel",
            "_view_count": null,
            "_view_module": "@jupyter-widgets/controls",
            "_view_module_version": "1.5.0",
            "_view_name": "HBoxView",
            "box_style": "",
            "children": [
              "IPY_MODEL_c8c34289e0a240f981199b635d6283fa",
              "IPY_MODEL_abb8a7a8d47448e890b8e18f93e1f700",
              "IPY_MODEL_b39ac468ee77437e91d85d6e6502ebfc"
            ],
            "layout": "IPY_MODEL_c0a9e0602b9e4bdabe4fe398b656e078"
          }
        },
        "c8c34289e0a240f981199b635d6283fa": {
          "model_module": "@jupyter-widgets/controls",
          "model_name": "HTMLModel",
          "model_module_version": "1.5.0",
          "state": {
            "_dom_classes": [],
            "_model_module": "@jupyter-widgets/controls",
            "_model_module_version": "1.5.0",
            "_model_name": "HTMLModel",
            "_view_count": null,
            "_view_module": "@jupyter-widgets/controls",
            "_view_module_version": "1.5.0",
            "_view_name": "HTMLView",
            "description": "",
            "description_tooltip": null,
            "layout": "IPY_MODEL_b989a854a46947a89252c12aef69ddfa",
            "placeholder": "​",
            "style": "IPY_MODEL_73175d92a81e4ac1b73270b345f89a03",
            "value": "Downloading: 100%"
          }
        },
        "abb8a7a8d47448e890b8e18f93e1f700": {
          "model_module": "@jupyter-widgets/controls",
          "model_name": "FloatProgressModel",
          "model_module_version": "1.5.0",
          "state": {
            "_dom_classes": [],
            "_model_module": "@jupyter-widgets/controls",
            "_model_module_version": "1.5.0",
            "_model_name": "FloatProgressModel",
            "_view_count": null,
            "_view_module": "@jupyter-widgets/controls",
            "_view_module_version": "1.5.0",
            "_view_name": "ProgressView",
            "bar_style": "success",
            "description": "",
            "description_tooltip": null,
            "layout": "IPY_MODEL_b1386c9955c64cd5b36edd7184f12d0c",
            "max": 466062,
            "min": 0,
            "orientation": "horizontal",
            "style": "IPY_MODEL_b76902632e94490ebee52f5c0c9bdfb9",
            "value": 466062
          }
        },
        "b39ac468ee77437e91d85d6e6502ebfc": {
          "model_module": "@jupyter-widgets/controls",
          "model_name": "HTMLModel",
          "model_module_version": "1.5.0",
          "state": {
            "_dom_classes": [],
            "_model_module": "@jupyter-widgets/controls",
            "_model_module_version": "1.5.0",
            "_model_name": "HTMLModel",
            "_view_count": null,
            "_view_module": "@jupyter-widgets/controls",
            "_view_module_version": "1.5.0",
            "_view_name": "HTMLView",
            "description": "",
            "description_tooltip": null,
            "layout": "IPY_MODEL_db5331fd52d144cf8a9d7a46e00f49eb",
            "placeholder": "​",
            "style": "IPY_MODEL_b8256ca818c944f0b94b7303a0fe81dd",
            "value": " 455k/455k [00:00&lt;00:00, 614kB/s]"
          }
        },
        "c0a9e0602b9e4bdabe4fe398b656e078": {
          "model_module": "@jupyter-widgets/base",
          "model_name": "LayoutModel",
          "model_module_version": "1.2.0",
          "state": {
            "_model_module": "@jupyter-widgets/base",
            "_model_module_version": "1.2.0",
            "_model_name": "LayoutModel",
            "_view_count": null,
            "_view_module": "@jupyter-widgets/base",
            "_view_module_version": "1.2.0",
            "_view_name": "LayoutView",
            "align_content": null,
            "align_items": null,
            "align_self": null,
            "border": null,
            "bottom": null,
            "display": null,
            "flex": null,
            "flex_flow": null,
            "grid_area": null,
            "grid_auto_columns": null,
            "grid_auto_flow": null,
            "grid_auto_rows": null,
            "grid_column": null,
            "grid_gap": null,
            "grid_row": null,
            "grid_template_areas": null,
            "grid_template_columns": null,
            "grid_template_rows": null,
            "height": null,
            "justify_content": null,
            "justify_items": null,
            "left": null,
            "margin": null,
            "max_height": null,
            "max_width": null,
            "min_height": null,
            "min_width": null,
            "object_fit": null,
            "object_position": null,
            "order": null,
            "overflow": null,
            "overflow_x": null,
            "overflow_y": null,
            "padding": null,
            "right": null,
            "top": null,
            "visibility": null,
            "width": null
          }
        },
        "b989a854a46947a89252c12aef69ddfa": {
          "model_module": "@jupyter-widgets/base",
          "model_name": "LayoutModel",
          "model_module_version": "1.2.0",
          "state": {
            "_model_module": "@jupyter-widgets/base",
            "_model_module_version": "1.2.0",
            "_model_name": "LayoutModel",
            "_view_count": null,
            "_view_module": "@jupyter-widgets/base",
            "_view_module_version": "1.2.0",
            "_view_name": "LayoutView",
            "align_content": null,
            "align_items": null,
            "align_self": null,
            "border": null,
            "bottom": null,
            "display": null,
            "flex": null,
            "flex_flow": null,
            "grid_area": null,
            "grid_auto_columns": null,
            "grid_auto_flow": null,
            "grid_auto_rows": null,
            "grid_column": null,
            "grid_gap": null,
            "grid_row": null,
            "grid_template_areas": null,
            "grid_template_columns": null,
            "grid_template_rows": null,
            "height": null,
            "justify_content": null,
            "justify_items": null,
            "left": null,
            "margin": null,
            "max_height": null,
            "max_width": null,
            "min_height": null,
            "min_width": null,
            "object_fit": null,
            "object_position": null,
            "order": null,
            "overflow": null,
            "overflow_x": null,
            "overflow_y": null,
            "padding": null,
            "right": null,
            "top": null,
            "visibility": null,
            "width": null
          }
        },
        "73175d92a81e4ac1b73270b345f89a03": {
          "model_module": "@jupyter-widgets/controls",
          "model_name": "DescriptionStyleModel",
          "model_module_version": "1.5.0",
          "state": {
            "_model_module": "@jupyter-widgets/controls",
            "_model_module_version": "1.5.0",
            "_model_name": "DescriptionStyleModel",
            "_view_count": null,
            "_view_module": "@jupyter-widgets/base",
            "_view_module_version": "1.2.0",
            "_view_name": "StyleView",
            "description_width": ""
          }
        },
        "b1386c9955c64cd5b36edd7184f12d0c": {
          "model_module": "@jupyter-widgets/base",
          "model_name": "LayoutModel",
          "model_module_version": "1.2.0",
          "state": {
            "_model_module": "@jupyter-widgets/base",
            "_model_module_version": "1.2.0",
            "_model_name": "LayoutModel",
            "_view_count": null,
            "_view_module": "@jupyter-widgets/base",
            "_view_module_version": "1.2.0",
            "_view_name": "LayoutView",
            "align_content": null,
            "align_items": null,
            "align_self": null,
            "border": null,
            "bottom": null,
            "display": null,
            "flex": null,
            "flex_flow": null,
            "grid_area": null,
            "grid_auto_columns": null,
            "grid_auto_flow": null,
            "grid_auto_rows": null,
            "grid_column": null,
            "grid_gap": null,
            "grid_row": null,
            "grid_template_areas": null,
            "grid_template_columns": null,
            "grid_template_rows": null,
            "height": null,
            "justify_content": null,
            "justify_items": null,
            "left": null,
            "margin": null,
            "max_height": null,
            "max_width": null,
            "min_height": null,
            "min_width": null,
            "object_fit": null,
            "object_position": null,
            "order": null,
            "overflow": null,
            "overflow_x": null,
            "overflow_y": null,
            "padding": null,
            "right": null,
            "top": null,
            "visibility": null,
            "width": null
          }
        },
        "b76902632e94490ebee52f5c0c9bdfb9": {
          "model_module": "@jupyter-widgets/controls",
          "model_name": "ProgressStyleModel",
          "model_module_version": "1.5.0",
          "state": {
            "_model_module": "@jupyter-widgets/controls",
            "_model_module_version": "1.5.0",
            "_model_name": "ProgressStyleModel",
            "_view_count": null,
            "_view_module": "@jupyter-widgets/base",
            "_view_module_version": "1.2.0",
            "_view_name": "StyleView",
            "bar_color": null,
            "description_width": ""
          }
        },
        "db5331fd52d144cf8a9d7a46e00f49eb": {
          "model_module": "@jupyter-widgets/base",
          "model_name": "LayoutModel",
          "model_module_version": "1.2.0",
          "state": {
            "_model_module": "@jupyter-widgets/base",
            "_model_module_version": "1.2.0",
            "_model_name": "LayoutModel",
            "_view_count": null,
            "_view_module": "@jupyter-widgets/base",
            "_view_module_version": "1.2.0",
            "_view_name": "LayoutView",
            "align_content": null,
            "align_items": null,
            "align_self": null,
            "border": null,
            "bottom": null,
            "display": null,
            "flex": null,
            "flex_flow": null,
            "grid_area": null,
            "grid_auto_columns": null,
            "grid_auto_flow": null,
            "grid_auto_rows": null,
            "grid_column": null,
            "grid_gap": null,
            "grid_row": null,
            "grid_template_areas": null,
            "grid_template_columns": null,
            "grid_template_rows": null,
            "height": null,
            "justify_content": null,
            "justify_items": null,
            "left": null,
            "margin": null,
            "max_height": null,
            "max_width": null,
            "min_height": null,
            "min_width": null,
            "object_fit": null,
            "object_position": null,
            "order": null,
            "overflow": null,
            "overflow_x": null,
            "overflow_y": null,
            "padding": null,
            "right": null,
            "top": null,
            "visibility": null,
            "width": null
          }
        },
        "b8256ca818c944f0b94b7303a0fe81dd": {
          "model_module": "@jupyter-widgets/controls",
          "model_name": "DescriptionStyleModel",
          "model_module_version": "1.5.0",
          "state": {
            "_model_module": "@jupyter-widgets/controls",
            "_model_module_version": "1.5.0",
            "_model_name": "DescriptionStyleModel",
            "_view_count": null,
            "_view_module": "@jupyter-widgets/base",
            "_view_module_version": "1.2.0",
            "_view_name": "StyleView",
            "description_width": ""
          }
        },
        "9556c48e4d584f8aab925314531c7098": {
          "model_module": "@jupyter-widgets/controls",
          "model_name": "HBoxModel",
          "model_module_version": "1.5.0",
          "state": {
            "_dom_classes": [],
            "_model_module": "@jupyter-widgets/controls",
            "_model_module_version": "1.5.0",
            "_model_name": "HBoxModel",
            "_view_count": null,
            "_view_module": "@jupyter-widgets/controls",
            "_view_module_version": "1.5.0",
            "_view_name": "HBoxView",
            "box_style": "",
            "children": [
              "IPY_MODEL_8f7122e24b1e41b98d450e269afcabb7",
              "IPY_MODEL_ca6daaf868e8484ba14be1f10d131de6",
              "IPY_MODEL_6ed6270781e941769b2dbb9951317047"
            ],
            "layout": "IPY_MODEL_49031a7f17a240cfbbef0e6ed0f81764"
          }
        },
        "8f7122e24b1e41b98d450e269afcabb7": {
          "model_module": "@jupyter-widgets/controls",
          "model_name": "HTMLModel",
          "model_module_version": "1.5.0",
          "state": {
            "_dom_classes": [],
            "_model_module": "@jupyter-widgets/controls",
            "_model_module_version": "1.5.0",
            "_model_name": "HTMLModel",
            "_view_count": null,
            "_view_module": "@jupyter-widgets/controls",
            "_view_module_version": "1.5.0",
            "_view_name": "HTMLView",
            "description": "",
            "description_tooltip": null,
            "layout": "IPY_MODEL_7444728dfd8b4037a918b9067ac83a41",
            "placeholder": "​",
            "style": "IPY_MODEL_88790adff6904e479c1809038ce8b970",
            "value": "Downloading: 100%"
          }
        },
        "ca6daaf868e8484ba14be1f10d131de6": {
          "model_module": "@jupyter-widgets/controls",
          "model_name": "FloatProgressModel",
          "model_module_version": "1.5.0",
          "state": {
            "_dom_classes": [],
            "_model_module": "@jupyter-widgets/controls",
            "_model_module_version": "1.5.0",
            "_model_name": "FloatProgressModel",
            "_view_count": null,
            "_view_module": "@jupyter-widgets/controls",
            "_view_module_version": "1.5.0",
            "_view_name": "ProgressView",
            "bar_style": "success",
            "description": "",
            "description_tooltip": null,
            "layout": "IPY_MODEL_82a6de93aa00424ca227da5bd4f7d177",
            "max": 440473133,
            "min": 0,
            "orientation": "horizontal",
            "style": "IPY_MODEL_addc064c240d43e3a53f8a3ccbca2927",
            "value": 440473133
          }
        },
        "6ed6270781e941769b2dbb9951317047": {
          "model_module": "@jupyter-widgets/controls",
          "model_name": "HTMLModel",
          "model_module_version": "1.5.0",
          "state": {
            "_dom_classes": [],
            "_model_module": "@jupyter-widgets/controls",
            "_model_module_version": "1.5.0",
            "_model_name": "HTMLModel",
            "_view_count": null,
            "_view_module": "@jupyter-widgets/controls",
            "_view_module_version": "1.5.0",
            "_view_name": "HTMLView",
            "description": "",
            "description_tooltip": null,
            "layout": "IPY_MODEL_a0dc294d04cc43dc9680a9b91781ce04",
            "placeholder": "​",
            "style": "IPY_MODEL_e20eaa51162f43108e7b2c857d609c9d",
            "value": " 420M/420M [00:09&lt;00:00, 41.8MB/s]"
          }
        },
        "49031a7f17a240cfbbef0e6ed0f81764": {
          "model_module": "@jupyter-widgets/base",
          "model_name": "LayoutModel",
          "model_module_version": "1.2.0",
          "state": {
            "_model_module": "@jupyter-widgets/base",
            "_model_module_version": "1.2.0",
            "_model_name": "LayoutModel",
            "_view_count": null,
            "_view_module": "@jupyter-widgets/base",
            "_view_module_version": "1.2.0",
            "_view_name": "LayoutView",
            "align_content": null,
            "align_items": null,
            "align_self": null,
            "border": null,
            "bottom": null,
            "display": null,
            "flex": null,
            "flex_flow": null,
            "grid_area": null,
            "grid_auto_columns": null,
            "grid_auto_flow": null,
            "grid_auto_rows": null,
            "grid_column": null,
            "grid_gap": null,
            "grid_row": null,
            "grid_template_areas": null,
            "grid_template_columns": null,
            "grid_template_rows": null,
            "height": null,
            "justify_content": null,
            "justify_items": null,
            "left": null,
            "margin": null,
            "max_height": null,
            "max_width": null,
            "min_height": null,
            "min_width": null,
            "object_fit": null,
            "object_position": null,
            "order": null,
            "overflow": null,
            "overflow_x": null,
            "overflow_y": null,
            "padding": null,
            "right": null,
            "top": null,
            "visibility": null,
            "width": null
          }
        },
        "7444728dfd8b4037a918b9067ac83a41": {
          "model_module": "@jupyter-widgets/base",
          "model_name": "LayoutModel",
          "model_module_version": "1.2.0",
          "state": {
            "_model_module": "@jupyter-widgets/base",
            "_model_module_version": "1.2.0",
            "_model_name": "LayoutModel",
            "_view_count": null,
            "_view_module": "@jupyter-widgets/base",
            "_view_module_version": "1.2.0",
            "_view_name": "LayoutView",
            "align_content": null,
            "align_items": null,
            "align_self": null,
            "border": null,
            "bottom": null,
            "display": null,
            "flex": null,
            "flex_flow": null,
            "grid_area": null,
            "grid_auto_columns": null,
            "grid_auto_flow": null,
            "grid_auto_rows": null,
            "grid_column": null,
            "grid_gap": null,
            "grid_row": null,
            "grid_template_areas": null,
            "grid_template_columns": null,
            "grid_template_rows": null,
            "height": null,
            "justify_content": null,
            "justify_items": null,
            "left": null,
            "margin": null,
            "max_height": null,
            "max_width": null,
            "min_height": null,
            "min_width": null,
            "object_fit": null,
            "object_position": null,
            "order": null,
            "overflow": null,
            "overflow_x": null,
            "overflow_y": null,
            "padding": null,
            "right": null,
            "top": null,
            "visibility": null,
            "width": null
          }
        },
        "88790adff6904e479c1809038ce8b970": {
          "model_module": "@jupyter-widgets/controls",
          "model_name": "DescriptionStyleModel",
          "model_module_version": "1.5.0",
          "state": {
            "_model_module": "@jupyter-widgets/controls",
            "_model_module_version": "1.5.0",
            "_model_name": "DescriptionStyleModel",
            "_view_count": null,
            "_view_module": "@jupyter-widgets/base",
            "_view_module_version": "1.2.0",
            "_view_name": "StyleView",
            "description_width": ""
          }
        },
        "82a6de93aa00424ca227da5bd4f7d177": {
          "model_module": "@jupyter-widgets/base",
          "model_name": "LayoutModel",
          "model_module_version": "1.2.0",
          "state": {
            "_model_module": "@jupyter-widgets/base",
            "_model_module_version": "1.2.0",
            "_model_name": "LayoutModel",
            "_view_count": null,
            "_view_module": "@jupyter-widgets/base",
            "_view_module_version": "1.2.0",
            "_view_name": "LayoutView",
            "align_content": null,
            "align_items": null,
            "align_self": null,
            "border": null,
            "bottom": null,
            "display": null,
            "flex": null,
            "flex_flow": null,
            "grid_area": null,
            "grid_auto_columns": null,
            "grid_auto_flow": null,
            "grid_auto_rows": null,
            "grid_column": null,
            "grid_gap": null,
            "grid_row": null,
            "grid_template_areas": null,
            "grid_template_columns": null,
            "grid_template_rows": null,
            "height": null,
            "justify_content": null,
            "justify_items": null,
            "left": null,
            "margin": null,
            "max_height": null,
            "max_width": null,
            "min_height": null,
            "min_width": null,
            "object_fit": null,
            "object_position": null,
            "order": null,
            "overflow": null,
            "overflow_x": null,
            "overflow_y": null,
            "padding": null,
            "right": null,
            "top": null,
            "visibility": null,
            "width": null
          }
        },
        "addc064c240d43e3a53f8a3ccbca2927": {
          "model_module": "@jupyter-widgets/controls",
          "model_name": "ProgressStyleModel",
          "model_module_version": "1.5.0",
          "state": {
            "_model_module": "@jupyter-widgets/controls",
            "_model_module_version": "1.5.0",
            "_model_name": "ProgressStyleModel",
            "_view_count": null,
            "_view_module": "@jupyter-widgets/base",
            "_view_module_version": "1.2.0",
            "_view_name": "StyleView",
            "bar_color": null,
            "description_width": ""
          }
        },
        "a0dc294d04cc43dc9680a9b91781ce04": {
          "model_module": "@jupyter-widgets/base",
          "model_name": "LayoutModel",
          "model_module_version": "1.2.0",
          "state": {
            "_model_module": "@jupyter-widgets/base",
            "_model_module_version": "1.2.0",
            "_model_name": "LayoutModel",
            "_view_count": null,
            "_view_module": "@jupyter-widgets/base",
            "_view_module_version": "1.2.0",
            "_view_name": "LayoutView",
            "align_content": null,
            "align_items": null,
            "align_self": null,
            "border": null,
            "bottom": null,
            "display": null,
            "flex": null,
            "flex_flow": null,
            "grid_area": null,
            "grid_auto_columns": null,
            "grid_auto_flow": null,
            "grid_auto_rows": null,
            "grid_column": null,
            "grid_gap": null,
            "grid_row": null,
            "grid_template_areas": null,
            "grid_template_columns": null,
            "grid_template_rows": null,
            "height": null,
            "justify_content": null,
            "justify_items": null,
            "left": null,
            "margin": null,
            "max_height": null,
            "max_width": null,
            "min_height": null,
            "min_width": null,
            "object_fit": null,
            "object_position": null,
            "order": null,
            "overflow": null,
            "overflow_x": null,
            "overflow_y": null,
            "padding": null,
            "right": null,
            "top": null,
            "visibility": null,
            "width": null
          }
        },
        "e20eaa51162f43108e7b2c857d609c9d": {
          "model_module": "@jupyter-widgets/controls",
          "model_name": "DescriptionStyleModel",
          "model_module_version": "1.5.0",
          "state": {
            "_model_module": "@jupyter-widgets/controls",
            "_model_module_version": "1.5.0",
            "_model_name": "DescriptionStyleModel",
            "_view_count": null,
            "_view_module": "@jupyter-widgets/base",
            "_view_module_version": "1.2.0",
            "_view_name": "StyleView",
            "description_width": ""
          }
        }
      }
    }
  },
  "nbformat": 4,
  "nbformat_minor": 0
}